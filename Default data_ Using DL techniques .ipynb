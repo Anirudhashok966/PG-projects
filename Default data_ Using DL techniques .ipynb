{
 "cells": [
  {
   "cell_type": "code",
   "execution_count": 1,
   "id": "4a908630",
   "metadata": {},
   "outputs": [],
   "source": [
    "import numpy as np\n",
    "import pandas as pd\n",
    "import seaborn as sns\n",
    "import matplotlib.pyplot as plt"
   ]
  },
  {
   "cell_type": "markdown",
   "id": "9a937491",
   "metadata": {},
   "source": [
    "# Import - Data info - Count"
   ]
  },
  {
   "cell_type": "code",
   "execution_count": 2,
   "id": "758df97b",
   "metadata": {},
   "outputs": [
    {
     "data": {
      "text/html": [
       "<div>\n",
       "<style scoped>\n",
       "    .dataframe tbody tr th:only-of-type {\n",
       "        vertical-align: middle;\n",
       "    }\n",
       "\n",
       "    .dataframe tbody tr th {\n",
       "        vertical-align: top;\n",
       "    }\n",
       "\n",
       "    .dataframe thead th {\n",
       "        text-align: right;\n",
       "    }\n",
       "</style>\n",
       "<table border=\"1\" class=\"dataframe\">\n",
       "  <thead>\n",
       "    <tr style=\"text-align: right;\">\n",
       "      <th></th>\n",
       "      <th>Gender</th>\n",
       "      <th>LoanOffered</th>\n",
       "      <th>Job</th>\n",
       "      <th>WorkExp</th>\n",
       "      <th>CreditScore</th>\n",
       "      <th>EMIRatio</th>\n",
       "      <th>Status</th>\n",
       "      <th>CreditHistory</th>\n",
       "      <th>Ownhouse</th>\n",
       "      <th>Purpose</th>\n",
       "      <th>Dependents</th>\n",
       "    </tr>\n",
       "  </thead>\n",
       "  <tbody>\n",
       "    <tr>\n",
       "      <th>0</th>\n",
       "      <td>Male</td>\n",
       "      <td>0</td>\n",
       "      <td>unskilled</td>\n",
       "      <td>14</td>\n",
       "      <td>86</td>\n",
       "      <td>3.0</td>\n",
       "      <td>No</td>\n",
       "      <td>poor</td>\n",
       "      <td>1</td>\n",
       "      <td>personal</td>\n",
       "      <td>2</td>\n",
       "    </tr>\n",
       "    <tr>\n",
       "      <th>1</th>\n",
       "      <td>Female</td>\n",
       "      <td>1</td>\n",
       "      <td>skilled</td>\n",
       "      <td>15</td>\n",
       "      <td>94</td>\n",
       "      <td>3.0</td>\n",
       "      <td>No</td>\n",
       "      <td>poor</td>\n",
       "      <td>1</td>\n",
       "      <td>personal</td>\n",
       "      <td>3</td>\n",
       "    </tr>\n",
       "    <tr>\n",
       "      <th>2</th>\n",
       "      <td>Male</td>\n",
       "      <td>0</td>\n",
       "      <td>unskilled</td>\n",
       "      <td>16</td>\n",
       "      <td>86</td>\n",
       "      <td>3.0</td>\n",
       "      <td>No</td>\n",
       "      <td>poor</td>\n",
       "      <td>1</td>\n",
       "      <td>personal</td>\n",
       "      <td>2</td>\n",
       "    </tr>\n",
       "    <tr>\n",
       "      <th>3</th>\n",
       "      <td>Female</td>\n",
       "      <td>1</td>\n",
       "      <td>skilled</td>\n",
       "      <td>13</td>\n",
       "      <td>94</td>\n",
       "      <td>3.0</td>\n",
       "      <td>No</td>\n",
       "      <td>poor</td>\n",
       "      <td>1</td>\n",
       "      <td>personal</td>\n",
       "      <td>3</td>\n",
       "    </tr>\n",
       "    <tr>\n",
       "      <th>4</th>\n",
       "      <td>Male</td>\n",
       "      <td>1</td>\n",
       "      <td>skilled</td>\n",
       "      <td>12</td>\n",
       "      <td>85</td>\n",
       "      <td>3.3</td>\n",
       "      <td>No</td>\n",
       "      <td>poor</td>\n",
       "      <td>1</td>\n",
       "      <td>personal</td>\n",
       "      <td>2</td>\n",
       "    </tr>\n",
       "  </tbody>\n",
       "</table>\n",
       "</div>"
      ],
      "text/plain": [
       "   Gender  LoanOffered        Job  WorkExp  CreditScore  EMIRatio Status  \\\n",
       "0    Male            0  unskilled       14           86       3.0     No   \n",
       "1  Female            1    skilled       15           94       3.0     No   \n",
       "2    Male            0  unskilled       16           86       3.0     No   \n",
       "3  Female            1    skilled       13           94       3.0     No   \n",
       "4    Male            1    skilled       12           85       3.3     No   \n",
       "\n",
       "  CreditHistory  Ownhouse   Purpose  Dependents  \n",
       "0          poor         1  personal           2  \n",
       "1          poor         1  personal           3  \n",
       "2          poor         1  personal           2  \n",
       "3          poor         1  personal           3  \n",
       "4          poor         1  personal           2  "
      ]
     },
     "execution_count": 2,
     "metadata": {},
     "output_type": "execute_result"
    }
   ],
   "source": [
    "df = pd.read_csv('default.csv');df.head()"
   ]
  },
  {
   "cell_type": "code",
   "execution_count": 3,
   "id": "a0e82450",
   "metadata": {},
   "outputs": [
    {
     "name": "stdout",
     "output_type": "stream",
     "text": [
      "<class 'pandas.core.frame.DataFrame'>\n",
      "RangeIndex: 781 entries, 0 to 780\n",
      "Data columns (total 11 columns):\n",
      " #   Column         Non-Null Count  Dtype  \n",
      "---  ------         --------------  -----  \n",
      " 0   Gender         781 non-null    object \n",
      " 1   LoanOffered    781 non-null    int64  \n",
      " 2   Job            781 non-null    object \n",
      " 3   WorkExp        781 non-null    int64  \n",
      " 4   CreditScore    781 non-null    int64  \n",
      " 5   EMIRatio       781 non-null    float64\n",
      " 6   Status         781 non-null    object \n",
      " 7   CreditHistory  781 non-null    object \n",
      " 8   Ownhouse       781 non-null    int64  \n",
      " 9   Purpose        781 non-null    object \n",
      " 10  Dependents     781 non-null    int64  \n",
      "dtypes: float64(1), int64(5), object(5)\n",
      "memory usage: 67.2+ KB\n"
     ]
    }
   ],
   "source": [
    "df.info()"
   ]
  },
  {
   "cell_type": "code",
   "execution_count": 4,
   "id": "ea5335ee",
   "metadata": {},
   "outputs": [
    {
     "data": {
      "text/plain": [
       "No         656\n",
       "Default    125\n",
       "Name: Status, dtype: int64"
      ]
     },
     "execution_count": 4,
     "metadata": {},
     "output_type": "execute_result"
    }
   ],
   "source": [
    "df['Status'].value_counts() # status is the target column"
   ]
  },
  {
   "cell_type": "code",
   "execution_count": 5,
   "id": "a5679f54",
   "metadata": {},
   "outputs": [
    {
     "data": {
      "text/plain": [
       "Gender           0\n",
       "LoanOffered      0\n",
       "Job              0\n",
       "WorkExp          0\n",
       "CreditScore      0\n",
       "EMIRatio         0\n",
       "Status           0\n",
       "CreditHistory    0\n",
       "Ownhouse         0\n",
       "Purpose          0\n",
       "Dependents       0\n",
       "dtype: int64"
      ]
     },
     "execution_count": 5,
     "metadata": {},
     "output_type": "execute_result"
    }
   ],
   "source": [
    "df.isnull().sum()"
   ]
  },
  {
   "cell_type": "code",
   "execution_count": 6,
   "id": "b7964b91",
   "metadata": {},
   "outputs": [
    {
     "data": {
      "text/plain": [
       "13"
      ]
     },
     "execution_count": 6,
     "metadata": {},
     "output_type": "execute_result"
    }
   ],
   "source": [
    "df.duplicated().sum()"
   ]
  },
  {
   "cell_type": "code",
   "execution_count": 7,
   "id": "30b69925",
   "metadata": {},
   "outputs": [],
   "source": [
    "df.drop_duplicates(keep ='first', inplace=True)"
   ]
  },
  {
   "cell_type": "code",
   "execution_count": 8,
   "id": "aa623d55",
   "metadata": {},
   "outputs": [
    {
     "data": {
      "text/plain": [
       "0"
      ]
     },
     "execution_count": 8,
     "metadata": {},
     "output_type": "execute_result"
    }
   ],
   "source": [
    "df.duplicated().sum()\n",
    "#no more duplicates "
   ]
  },
  {
   "cell_type": "code",
   "execution_count": 9,
   "id": "038189a1",
   "metadata": {},
   "outputs": [
    {
     "data": {
      "text/html": [
       "<div>\n",
       "<style scoped>\n",
       "    .dataframe tbody tr th:only-of-type {\n",
       "        vertical-align: middle;\n",
       "    }\n",
       "\n",
       "    .dataframe tbody tr th {\n",
       "        vertical-align: top;\n",
       "    }\n",
       "\n",
       "    .dataframe thead th {\n",
       "        text-align: right;\n",
       "    }\n",
       "</style>\n",
       "<table border=\"1\" class=\"dataframe\">\n",
       "  <thead>\n",
       "    <tr style=\"text-align: right;\">\n",
       "      <th>LoanOffered</th>\n",
       "      <th>0</th>\n",
       "      <th>1</th>\n",
       "    </tr>\n",
       "    <tr>\n",
       "      <th>Status</th>\n",
       "      <th></th>\n",
       "      <th></th>\n",
       "    </tr>\n",
       "  </thead>\n",
       "  <tbody>\n",
       "    <tr>\n",
       "      <th>Default</th>\n",
       "      <td>0.096774</td>\n",
       "      <td>0.175258</td>\n",
       "    </tr>\n",
       "    <tr>\n",
       "      <th>No</th>\n",
       "      <td>0.903226</td>\n",
       "      <td>0.824742</td>\n",
       "    </tr>\n",
       "  </tbody>\n",
       "</table>\n",
       "</div>"
      ],
      "text/plain": [
       "LoanOffered         0         1\n",
       "Status                         \n",
       "Default      0.096774  0.175258\n",
       "No           0.903226  0.824742"
      ]
     },
     "execution_count": 9,
     "metadata": {},
     "output_type": "execute_result"
    }
   ],
   "source": [
    "pd.crosstab(df['Status'],df['LoanOffered'],normalize='columns')"
   ]
  },
  {
   "cell_type": "code",
   "execution_count": 10,
   "id": "23699c3a",
   "metadata": {},
   "outputs": [
    {
     "data": {
      "text/html": [
       "<div>\n",
       "<style scoped>\n",
       "    .dataframe tbody tr th:only-of-type {\n",
       "        vertical-align: middle;\n",
       "    }\n",
       "\n",
       "    .dataframe tbody tr th {\n",
       "        vertical-align: top;\n",
       "    }\n",
       "\n",
       "    .dataframe thead th {\n",
       "        text-align: right;\n",
       "    }\n",
       "</style>\n",
       "<table border=\"1\" class=\"dataframe\">\n",
       "  <thead>\n",
       "    <tr style=\"text-align: right;\">\n",
       "      <th>Ownhouse</th>\n",
       "      <th>0</th>\n",
       "      <th>1</th>\n",
       "    </tr>\n",
       "    <tr>\n",
       "      <th>Status</th>\n",
       "      <th></th>\n",
       "      <th></th>\n",
       "    </tr>\n",
       "  </thead>\n",
       "  <tbody>\n",
       "    <tr>\n",
       "      <th>Default</th>\n",
       "      <td>0.676136</td>\n",
       "      <td>0.001689</td>\n",
       "    </tr>\n",
       "    <tr>\n",
       "      <th>No</th>\n",
       "      <td>0.323864</td>\n",
       "      <td>0.998311</td>\n",
       "    </tr>\n",
       "  </tbody>\n",
       "</table>\n",
       "</div>"
      ],
      "text/plain": [
       "Ownhouse         0         1\n",
       "Status                      \n",
       "Default   0.676136  0.001689\n",
       "No        0.323864  0.998311"
      ]
     },
     "execution_count": 10,
     "metadata": {},
     "output_type": "execute_result"
    }
   ],
   "source": [
    "pd.crosstab(df['Status'],df['Ownhouse'],normalize='columns')"
   ]
  },
  {
   "cell_type": "code",
   "execution_count": 11,
   "id": "765fcafc",
   "metadata": {},
   "outputs": [
    {
     "data": {
      "text/html": [
       "<div>\n",
       "<style scoped>\n",
       "    .dataframe tbody tr th:only-of-type {\n",
       "        vertical-align: middle;\n",
       "    }\n",
       "\n",
       "    .dataframe tbody tr th {\n",
       "        vertical-align: top;\n",
       "    }\n",
       "\n",
       "    .dataframe thead th {\n",
       "        text-align: right;\n",
       "    }\n",
       "</style>\n",
       "<table border=\"1\" class=\"dataframe\">\n",
       "  <thead>\n",
       "    <tr style=\"text-align: right;\">\n",
       "      <th>Dependents</th>\n",
       "      <th>0</th>\n",
       "      <th>1</th>\n",
       "      <th>2</th>\n",
       "      <th>3</th>\n",
       "      <th>4</th>\n",
       "    </tr>\n",
       "    <tr>\n",
       "      <th>Status</th>\n",
       "      <th></th>\n",
       "      <th></th>\n",
       "      <th></th>\n",
       "      <th></th>\n",
       "      <th></th>\n",
       "    </tr>\n",
       "  </thead>\n",
       "  <tbody>\n",
       "    <tr>\n",
       "      <th>Default</th>\n",
       "      <td>0.530612</td>\n",
       "      <td>0.554054</td>\n",
       "      <td>0.074468</td>\n",
       "      <td>0.021127</td>\n",
       "      <td>0.0</td>\n",
       "    </tr>\n",
       "    <tr>\n",
       "      <th>No</th>\n",
       "      <td>0.469388</td>\n",
       "      <td>0.445946</td>\n",
       "      <td>0.925532</td>\n",
       "      <td>0.978873</td>\n",
       "      <td>1.0</td>\n",
       "    </tr>\n",
       "  </tbody>\n",
       "</table>\n",
       "</div>"
      ],
      "text/plain": [
       "Dependents         0         1         2         3    4\n",
       "Status                                                 \n",
       "Default     0.530612  0.554054  0.074468  0.021127  0.0\n",
       "No          0.469388  0.445946  0.925532  0.978873  1.0"
      ]
     },
     "execution_count": 11,
     "metadata": {},
     "output_type": "execute_result"
    }
   ],
   "source": [
    "pd.crosstab(df['Status'],df['Dependents'],normalize='columns')"
   ]
  },
  {
   "cell_type": "code",
   "execution_count": 12,
   "id": "5e96e36e",
   "metadata": {},
   "outputs": [
    {
     "data": {
      "text/html": [
       "<div>\n",
       "<style scoped>\n",
       "    .dataframe tbody tr th:only-of-type {\n",
       "        vertical-align: middle;\n",
       "    }\n",
       "\n",
       "    .dataframe tbody tr th {\n",
       "        vertical-align: top;\n",
       "    }\n",
       "\n",
       "    .dataframe thead th {\n",
       "        text-align: right;\n",
       "    }\n",
       "</style>\n",
       "<table border=\"1\" class=\"dataframe\">\n",
       "  <thead>\n",
       "    <tr style=\"text-align: right;\">\n",
       "      <th>CreditHistory</th>\n",
       "      <th>critical</th>\n",
       "      <th>good</th>\n",
       "      <th>poor</th>\n",
       "      <th>verygood</th>\n",
       "    </tr>\n",
       "    <tr>\n",
       "      <th>Status</th>\n",
       "      <th></th>\n",
       "      <th></th>\n",
       "      <th></th>\n",
       "      <th></th>\n",
       "    </tr>\n",
       "  </thead>\n",
       "  <tbody>\n",
       "    <tr>\n",
       "      <th>Default</th>\n",
       "      <td>0.184358</td>\n",
       "      <td>0.137931</td>\n",
       "      <td>0.354167</td>\n",
       "      <td>0.08046</td>\n",
       "    </tr>\n",
       "    <tr>\n",
       "      <th>No</th>\n",
       "      <td>0.815642</td>\n",
       "      <td>0.862069</td>\n",
       "      <td>0.645833</td>\n",
       "      <td>0.91954</td>\n",
       "    </tr>\n",
       "  </tbody>\n",
       "</table>\n",
       "</div>"
      ],
      "text/plain": [
       "CreditHistory  critical      good      poor  verygood\n",
       "Status                                               \n",
       "Default        0.184358  0.137931  0.354167   0.08046\n",
       "No             0.815642  0.862069  0.645833   0.91954"
      ]
     },
     "execution_count": 12,
     "metadata": {},
     "output_type": "execute_result"
    }
   ],
   "source": [
    "pd.crosstab(df['Status'],df['CreditHistory'],normalize='columns')"
   ]
  },
  {
   "cell_type": "code",
   "execution_count": 13,
   "id": "e72f60de",
   "metadata": {},
   "outputs": [
    {
     "data": {
      "text/html": [
       "<div>\n",
       "<style scoped>\n",
       "    .dataframe tbody tr th:only-of-type {\n",
       "        vertical-align: middle;\n",
       "    }\n",
       "\n",
       "    .dataframe tbody tr th {\n",
       "        vertical-align: top;\n",
       "    }\n",
       "\n",
       "    .dataframe thead th {\n",
       "        text-align: right;\n",
       "    }\n",
       "</style>\n",
       "<table border=\"1\" class=\"dataframe\">\n",
       "  <thead>\n",
       "    <tr style=\"text-align: right;\">\n",
       "      <th>Purpose</th>\n",
       "      <th>car</th>\n",
       "      <th>consumerdurable</th>\n",
       "      <th>education</th>\n",
       "      <th>personal</th>\n",
       "    </tr>\n",
       "    <tr>\n",
       "      <th>Status</th>\n",
       "      <th></th>\n",
       "      <th></th>\n",
       "      <th></th>\n",
       "      <th></th>\n",
       "    </tr>\n",
       "  </thead>\n",
       "  <tbody>\n",
       "    <tr>\n",
       "      <th>Default</th>\n",
       "      <td>0.156863</td>\n",
       "      <td>0.152174</td>\n",
       "      <td>0.138211</td>\n",
       "      <td>0.184211</td>\n",
       "    </tr>\n",
       "    <tr>\n",
       "      <th>No</th>\n",
       "      <td>0.843137</td>\n",
       "      <td>0.847826</td>\n",
       "      <td>0.861789</td>\n",
       "      <td>0.815789</td>\n",
       "    </tr>\n",
       "  </tbody>\n",
       "</table>\n",
       "</div>"
      ],
      "text/plain": [
       "Purpose       car  consumerdurable  education  personal\n",
       "Status                                                 \n",
       "Default  0.156863         0.152174   0.138211  0.184211\n",
       "No       0.843137         0.847826   0.861789  0.815789"
      ]
     },
     "execution_count": 13,
     "metadata": {},
     "output_type": "execute_result"
    }
   ],
   "source": [
    "pd.crosstab(df['Status'],df['Purpose'],normalize='columns')"
   ]
  },
  {
   "cell_type": "markdown",
   "id": "f4e871d7",
   "metadata": {},
   "source": [
    "# EDA"
   ]
  },
  {
   "cell_type": "code",
   "execution_count": 14,
   "id": "eae0a8c8",
   "metadata": {},
   "outputs": [
    {
     "data": {
      "text/plain": [
       "<AxesSubplot:>"
      ]
     },
     "execution_count": 14,
     "metadata": {},
     "output_type": "execute_result"
    },
    {
     "data": {
      "text/plain": [
       "<Figure size 1080x1080 with 0 Axes>"
      ]
     },
     "metadata": {},
     "output_type": "display_data"
    },
    {
     "data": {
      "image/png": "[encoded data removed]",
      "text/plain": [
       "<Figure size 432x288 with 1 Axes>"
      ]
     },
     "metadata": {
      "needs_background": "light"
     },
     "output_type": "display_data"
    }
   ],
   "source": [
    "plt.figure(figsize=(15,15))\n",
    "df.plot.box(vert=0)"
   ]
  },
  {
   "cell_type": "code",
   "execution_count": 15,
   "id": "e925d97b",
   "metadata": {},
   "outputs": [
    {
     "data": {
      "text/plain": [
       "<AxesSubplot:>"
      ]
     },
     "execution_count": 15,
     "metadata": {},
     "output_type": "execute_result"
    },
    {
     "data": {
      "image/png": "[encoded data removed]",
      "text/plain": [
       "<Figure size 720x720 with 2 Axes>"
      ]
     },
     "metadata": {
      "needs_background": "light"
     },
     "output_type": "display_data"
    }
   ],
   "source": [
    "plt.figure(figsize=(10,10))\n",
    "sns.heatmap(df.corr(), vmin = -1, cmap = 'RdBu' , annot = True)\n",
    "#work expirience and credit score is highly correlated, lets consider credit score alone."
   ]
  },
  {
   "cell_type": "markdown",
   "id": "a8d1a34e",
   "metadata": {},
   "source": [
    "# EDA - Continous"
   ]
  },
  {
   "cell_type": "code",
   "execution_count": 16,
   "id": "6b065cf5",
   "metadata": {},
   "outputs": [
    {
     "data": {
      "text/plain": [
       "<AxesSubplot:ylabel='Density'>"
      ]
     },
     "execution_count": 16,
     "metadata": {},
     "output_type": "execute_result"
    },
    {
     "data": {
      "image/png": "[encoded data removed]",
      "text/plain": [
       "<Figure size 432x288 with 1 Axes>"
      ]
     },
     "metadata": {
      "needs_background": "light"
     },
     "output_type": "display_data"
    }
   ],
   "source": [
    "df['CreditScore'].plot.kde()"
   ]
  },
  {
   "cell_type": "code",
   "execution_count": 17,
   "id": "36d6637d",
   "metadata": {},
   "outputs": [
    {
     "data": {
      "text/plain": [
       "<AxesSubplot:ylabel='Density'>"
      ]
     },
     "execution_count": 17,
     "metadata": {},
     "output_type": "execute_result"
    },
    {
     "data": {
      "image/png": "[encoded data removed]",
      "text/plain": [
       "<Figure size 432x288 with 1 Axes>"
      ]
     },
     "metadata": {
      "needs_background": "light"
     },
     "output_type": "display_data"
    }
   ],
   "source": [
    "df['EMIRatio'].plot.kde()"
   ]
  },
  {
   "cell_type": "code",
   "execution_count": 18,
   "id": "e04e422b",
   "metadata": {},
   "outputs": [
    {
     "data": {
      "text/plain": [
       "<AxesSubplot:xlabel='Status', ylabel='CreditScore'>"
      ]
     },
     "execution_count": 18,
     "metadata": {},
     "output_type": "execute_result"
    },
    {
     "data": {
      "image/png": "[encoded data removed]",
      "text/plain": [
       "<Figure size 432x288 with 1 Axes>"
      ]
     },
     "metadata": {
      "needs_background": "light"
     },
     "output_type": "display_data"
    }
   ],
   "source": [
    "sns.boxplot(data = df, x = 'Status', y = 'CreditScore')"
   ]
  },
  {
   "cell_type": "code",
   "execution_count": 19,
   "id": "d4484c9c",
   "metadata": {},
   "outputs": [
    {
     "data": {
      "text/plain": [
       "<AxesSubplot:xlabel='Status', ylabel='EMIRatio'>"
      ]
     },
     "execution_count": 19,
     "metadata": {},
     "output_type": "execute_result"
    },
    {
     "data": {
      "image/png": "[encoded data removed]",
      "text/plain": [
       "<Figure size 432x288 with 1 Axes>"
      ]
     },
     "metadata": {
      "needs_background": "light"
     },
     "output_type": "display_data"
    }
   ],
   "source": [
    "sns.boxplot(data = df, x = 'Status', y = 'EMIRatio')"
   ]
  },
  {
   "cell_type": "code",
   "execution_count": 20,
   "id": "2b8ac15b",
   "metadata": {},
   "outputs": [
    {
     "data": {
      "text/plain": [
       "<AxesSubplot:xlabel='Status', ylabel='WorkExp'>"
      ]
     },
     "execution_count": 20,
     "metadata": {},
     "output_type": "execute_result"
    },
    {
     "data": {
      "image/png": "[encoded data removed]",
      "text/plain": [
       "<Figure size 432x288 with 1 Axes>"
      ]
     },
     "metadata": {
      "needs_background": "light"
     },
     "output_type": "display_data"
    }
   ],
   "source": [
    "sns.boxplot(data = df, x = 'Status', y = 'WorkExp')"
   ]
  },
  {
   "cell_type": "code",
   "execution_count": 21,
   "id": "978f6a5c",
   "metadata": {},
   "outputs": [
    {
     "data": {
      "text/plain": [
       "<AxesSubplot:xlabel='Status', ylabel='Dependents'>"
      ]
     },
     "execution_count": 21,
     "metadata": {},
     "output_type": "execute_result"
    },
    {
     "data": {
      "image/png": "[encoded data removed]",
      "text/plain": [
       "<Figure size 432x288 with 1 Axes>"
      ]
     },
     "metadata": {
      "needs_background": "light"
     },
     "output_type": "display_data"
    }
   ],
   "source": [
    "sns.boxplot(data = df, x = 'Status', y = 'Dependents')"
   ]
  },
  {
   "cell_type": "markdown",
   "id": "e9e72ccd",
   "metadata": {},
   "source": [
    "# EDA - Categorical"
   ]
  },
  {
   "cell_type": "code",
   "execution_count": 22,
   "id": "c3e7c3a2",
   "metadata": {},
   "outputs": [
    {
     "data": {
      "text/plain": [
       "<AxesSubplot:xlabel='Status', ylabel='count'>"
      ]
     },
     "execution_count": 22,
     "metadata": {},
     "output_type": "execute_result"
    },
    {
     "data": {
      "image/png": "[encoded data removed]",
      "text/plain": [
       "<Figure size 432x288 with 1 Axes>"
      ]
     },
     "metadata": {
      "needs_background": "light"
     },
     "output_type": "display_data"
    }
   ],
   "source": [
    "sns.countplot(data = df, hue='LoanOffered', x='Status' )"
   ]
  },
  {
   "cell_type": "code",
   "execution_count": 23,
   "id": "4a6839c6",
   "metadata": {},
   "outputs": [
    {
     "data": {
      "text/plain": [
       "<AxesSubplot:xlabel='Status', ylabel='count'>"
      ]
     },
     "execution_count": 23,
     "metadata": {},
     "output_type": "execute_result"
    },
    {
     "data": {
      "image/png": "[encoded data removed]",
      "text/plain": [
       "<Figure size 432x288 with 1 Axes>"
      ]
     },
     "metadata": {
      "needs_background": "light"
     },
     "output_type": "display_data"
    }
   ],
   "source": [
    "sns.countplot(data = df, hue='Ownhouse', x='Status' )"
   ]
  },
  {
   "cell_type": "code",
   "execution_count": 24,
   "id": "71699b40",
   "metadata": {},
   "outputs": [
    {
     "data": {
      "text/plain": [
       "<AxesSubplot:xlabel='Status', ylabel='count'>"
      ]
     },
     "execution_count": 24,
     "metadata": {},
     "output_type": "execute_result"
    },
    {
     "data": {
      "image/png": "[encoded data removed]",
      "text/plain": [
       "<Figure size 432x288 with 1 Axes>"
      ]
     },
     "metadata": {
      "needs_background": "light"
     },
     "output_type": "display_data"
    }
   ],
   "source": [
    "sns.countplot(data = df, hue='Dependents', x='Status' )"
   ]
  },
  {
   "cell_type": "code",
   "execution_count": 25,
   "id": "d399f775",
   "metadata": {},
   "outputs": [
    {
     "data": {
      "text/plain": [
       "<AxesSubplot:xlabel='Status', ylabel='count'>"
      ]
     },
     "execution_count": 25,
     "metadata": {},
     "output_type": "execute_result"
    },
    {
     "data": {
      "image/png": "[encoded data removed]",
      "text/plain": [
       "<Figure size 432x288 with 1 Axes>"
      ]
     },
     "metadata": {
      "needs_background": "light"
     },
     "output_type": "display_data"
    }
   ],
   "source": [
    "sns.countplot(data = df, hue='CreditHistory', x='Status' )"
   ]
  },
  {
   "cell_type": "code",
   "execution_count": 26,
   "id": "fa4f0e6e",
   "metadata": {},
   "outputs": [
    {
     "data": {
      "text/plain": [
       "<AxesSubplot:xlabel='Status', ylabel='count'>"
      ]
     },
     "execution_count": 26,
     "metadata": {},
     "output_type": "execute_result"
    },
    {
     "data": {
      "image/png": "[encoded data removed]",
      "text/plain": [
       "<Figure size 432x288 with 1 Axes>"
      ]
     },
     "metadata": {
      "needs_background": "light"
     },
     "output_type": "display_data"
    }
   ],
   "source": [
    "sns.countplot(data = df, hue='Purpose', x='Status' )"
   ]
  },
  {
   "cell_type": "code",
   "execution_count": 27,
   "id": "71ecf637",
   "metadata": {},
   "outputs": [
    {
     "data": {
      "text/plain": [
       "<seaborn.axisgrid.PairGrid at 0x1bd230eb3d0>"
      ]
     },
     "execution_count": 27,
     "metadata": {},
     "output_type": "execute_result"
    },
    {
     "data": {
      "image/png": "[encoded data removed]",
      "text/plain": [
       "<Figure size 1152.75x1080 with 42 Axes>"
      ]
     },
     "metadata": {
      "needs_background": "light"
     },
     "output_type": "display_data"
    }
   ],
   "source": [
    "sns.pairplot(data = df, hue = 'Status')"
   ]
  },
  {
   "cell_type": "markdown",
   "id": "f37ef8e6",
   "metadata": {},
   "source": [
    "# Label encoding and CHI square test"
   ]
  },
  {
   "cell_type": "code",
   "execution_count": 269,
   "id": "c6fc831c",
   "metadata": {},
   "outputs": [
    {
     "name": "stdout",
     "output_type": "stream",
     "text": [
      "<class 'pandas.core.frame.DataFrame'>\n",
      "Int64Index: 768 entries, 0 to 779\n",
      "Data columns (total 11 columns):\n",
      " #   Column         Non-Null Count  Dtype  \n",
      "---  ------         --------------  -----  \n",
      " 0   Gender         768 non-null    object \n",
      " 1   LoanOffered    768 non-null    int64  \n",
      " 2   Job            768 non-null    object \n",
      " 3   WorkExp        768 non-null    int64  \n",
      " 4   CreditScore    768 non-null    int64  \n",
      " 5   EMIRatio       768 non-null    float64\n",
      " 6   Status         768 non-null    object \n",
      " 7   CreditHistory  768 non-null    object \n",
      " 8   Ownhouse       768 non-null    int64  \n",
      " 9   Purpose        768 non-null    object \n",
      " 10  Dependents     768 non-null    int64  \n",
      "dtypes: float64(1), int64(5), object(5)\n",
      "memory usage: 72.0+ KB\n"
     ]
    }
   ],
   "source": [
    "df.info()"
   ]
  },
  {
   "cell_type": "code",
   "execution_count": 270,
   "id": "dee0ed3f",
   "metadata": {},
   "outputs": [
    {
     "data": {
      "text/html": [
       "<div>\n",
       "<style scoped>\n",
       "    .dataframe tbody tr th:only-of-type {\n",
       "        vertical-align: middle;\n",
       "    }\n",
       "\n",
       "    .dataframe tbody tr th {\n",
       "        vertical-align: top;\n",
       "    }\n",
       "\n",
       "    .dataframe thead th {\n",
       "        text-align: right;\n",
       "    }\n",
       "</style>\n",
       "<table border=\"1\" class=\"dataframe\">\n",
       "  <thead>\n",
       "    <tr style=\"text-align: right;\">\n",
       "      <th></th>\n",
       "      <th>Gender</th>\n",
       "      <th>LoanOffered</th>\n",
       "      <th>Job</th>\n",
       "      <th>WorkExp</th>\n",
       "      <th>CreditScore</th>\n",
       "      <th>EMIRatio</th>\n",
       "      <th>Status</th>\n",
       "      <th>CreditHistory</th>\n",
       "      <th>Ownhouse</th>\n",
       "      <th>Purpose</th>\n",
       "      <th>Dependents</th>\n",
       "    </tr>\n",
       "  </thead>\n",
       "  <tbody>\n",
       "    <tr>\n",
       "      <th>0</th>\n",
       "      <td>Male</td>\n",
       "      <td>0</td>\n",
       "      <td>unskilled</td>\n",
       "      <td>14</td>\n",
       "      <td>86</td>\n",
       "      <td>3.0</td>\n",
       "      <td>No</td>\n",
       "      <td>poor</td>\n",
       "      <td>1</td>\n",
       "      <td>personal</td>\n",
       "      <td>2</td>\n",
       "    </tr>\n",
       "    <tr>\n",
       "      <th>1</th>\n",
       "      <td>Female</td>\n",
       "      <td>1</td>\n",
       "      <td>skilled</td>\n",
       "      <td>15</td>\n",
       "      <td>94</td>\n",
       "      <td>3.0</td>\n",
       "      <td>No</td>\n",
       "      <td>poor</td>\n",
       "      <td>1</td>\n",
       "      <td>personal</td>\n",
       "      <td>3</td>\n",
       "    </tr>\n",
       "    <tr>\n",
       "      <th>2</th>\n",
       "      <td>Male</td>\n",
       "      <td>0</td>\n",
       "      <td>unskilled</td>\n",
       "      <td>16</td>\n",
       "      <td>86</td>\n",
       "      <td>3.0</td>\n",
       "      <td>No</td>\n",
       "      <td>poor</td>\n",
       "      <td>1</td>\n",
       "      <td>personal</td>\n",
       "      <td>2</td>\n",
       "    </tr>\n",
       "    <tr>\n",
       "      <th>3</th>\n",
       "      <td>Female</td>\n",
       "      <td>1</td>\n",
       "      <td>skilled</td>\n",
       "      <td>13</td>\n",
       "      <td>94</td>\n",
       "      <td>3.0</td>\n",
       "      <td>No</td>\n",
       "      <td>poor</td>\n",
       "      <td>1</td>\n",
       "      <td>personal</td>\n",
       "      <td>3</td>\n",
       "    </tr>\n",
       "    <tr>\n",
       "      <th>4</th>\n",
       "      <td>Male</td>\n",
       "      <td>1</td>\n",
       "      <td>skilled</td>\n",
       "      <td>12</td>\n",
       "      <td>85</td>\n",
       "      <td>3.3</td>\n",
       "      <td>No</td>\n",
       "      <td>poor</td>\n",
       "      <td>1</td>\n",
       "      <td>personal</td>\n",
       "      <td>2</td>\n",
       "    </tr>\n",
       "  </tbody>\n",
       "</table>\n",
       "</div>"
      ],
      "text/plain": [
       "   Gender  LoanOffered        Job  WorkExp  CreditScore  EMIRatio Status  \\\n",
       "0    Male            0  unskilled       14           86       3.0     No   \n",
       "1  Female            1    skilled       15           94       3.0     No   \n",
       "2    Male            0  unskilled       16           86       3.0     No   \n",
       "3  Female            1    skilled       13           94       3.0     No   \n",
       "4    Male            1    skilled       12           85       3.3     No   \n",
       "\n",
       "  CreditHistory  Ownhouse   Purpose  Dependents  \n",
       "0          poor         1  personal           2  \n",
       "1          poor         1  personal           3  \n",
       "2          poor         1  personal           2  \n",
       "3          poor         1  personal           3  \n",
       "4          poor         1  personal           2  "
      ]
     },
     "execution_count": 270,
     "metadata": {},
     "output_type": "execute_result"
    }
   ],
   "source": [
    "df.head()"
   ]
  },
  {
   "cell_type": "code",
   "execution_count": 271,
   "id": "83aacbc8",
   "metadata": {},
   "outputs": [
    {
     "data": {
      "text/plain": [
       "Male      537\n",
       "Female    231\n",
       "Name: Gender, dtype: int64"
      ]
     },
     "execution_count": 271,
     "metadata": {},
     "output_type": "execute_result"
    }
   ],
   "source": [
    "df['Gender'].value_counts()"
   ]
  },
  {
   "cell_type": "code",
   "execution_count": 272,
   "id": "94f66d69",
   "metadata": {},
   "outputs": [
    {
     "data": {
      "text/plain": [
       "skilled       550\n",
       "Management    117\n",
       "unskilled     101\n",
       "Name: Job, dtype: int64"
      ]
     },
     "execution_count": 272,
     "metadata": {},
     "output_type": "execute_result"
    }
   ],
   "source": [
    "df['Job'].value_counts()"
   ]
  },
  {
   "cell_type": "code",
   "execution_count": 273,
   "id": "a8b98cb7",
   "metadata": {},
   "outputs": [
    {
     "data": {
      "text/plain": [
       "No         648\n",
       "Default    120\n",
       "Name: Status, dtype: int64"
      ]
     },
     "execution_count": 273,
     "metadata": {},
     "output_type": "execute_result"
    }
   ],
   "source": [
    "df['Status'].value_counts()"
   ]
  },
  {
   "cell_type": "code",
   "execution_count": 274,
   "id": "a0346cae",
   "metadata": {},
   "outputs": [
    {
     "data": {
      "text/plain": [
       "verygood    261\n",
       "good        232\n",
       "critical    179\n",
       "poor         96\n",
       "Name: CreditHistory, dtype: int64"
      ]
     },
     "execution_count": 274,
     "metadata": {},
     "output_type": "execute_result"
    }
   ],
   "source": [
    "df['CreditHistory'].value_counts()"
   ]
  },
  {
   "cell_type": "code",
   "execution_count": 275,
   "id": "7a2721fd",
   "metadata": {},
   "outputs": [
    {
     "data": {
      "text/plain": [
       "consumerdurable    276\n",
       "car                255\n",
       "education          123\n",
       "personal           114\n",
       "Name: Purpose, dtype: int64"
      ]
     },
     "execution_count": 275,
     "metadata": {},
     "output_type": "execute_result"
    }
   ],
   "source": [
    "df['Purpose'].value_counts()"
   ]
  },
  {
   "cell_type": "code",
   "execution_count": 276,
   "id": "bde8ae21",
   "metadata": {},
   "outputs": [],
   "source": [
    "df['Gender'] = df['Gender'].map({'Male':1,'Female':0})\n",
    "df['Job'] = df['Job'].map({'skilled':2,'Management':1,'unskilled':0})\n",
    "df['CreditHistory'] = df['CreditHistory'].map({'verygood':3,'good':2,'critical':1,'poor':0})\n",
    "df['Purpose'] = df['Purpose'].map({'consumerdurable':3,'car':2,'education':1,'personal':0})\n",
    "df['Status'] = df['Status'].map({'Default':1,'No':0})"
   ]
  },
  {
   "cell_type": "code",
   "execution_count": 277,
   "id": "11ae3d9e",
   "metadata": {},
   "outputs": [
    {
     "data": {
      "text/html": [
       "<div>\n",
       "<style scoped>\n",
       "    .dataframe tbody tr th:only-of-type {\n",
       "        vertical-align: middle;\n",
       "    }\n",
       "\n",
       "    .dataframe tbody tr th {\n",
       "        vertical-align: top;\n",
       "    }\n",
       "\n",
       "    .dataframe thead th {\n",
       "        text-align: right;\n",
       "    }\n",
       "</style>\n",
       "<table border=\"1\" class=\"dataframe\">\n",
       "  <thead>\n",
       "    <tr style=\"text-align: right;\">\n",
       "      <th></th>\n",
       "      <th>Gender</th>\n",
       "      <th>LoanOffered</th>\n",
       "      <th>Job</th>\n",
       "      <th>WorkExp</th>\n",
       "      <th>CreditScore</th>\n",
       "      <th>EMIRatio</th>\n",
       "      <th>Status</th>\n",
       "      <th>CreditHistory</th>\n",
       "      <th>Ownhouse</th>\n",
       "      <th>Purpose</th>\n",
       "      <th>Dependents</th>\n",
       "    </tr>\n",
       "  </thead>\n",
       "  <tbody>\n",
       "    <tr>\n",
       "      <th>0</th>\n",
       "      <td>1</td>\n",
       "      <td>0</td>\n",
       "      <td>0</td>\n",
       "      <td>14</td>\n",
       "      <td>86</td>\n",
       "      <td>3.0</td>\n",
       "      <td>0</td>\n",
       "      <td>0</td>\n",
       "      <td>1</td>\n",
       "      <td>0</td>\n",
       "      <td>2</td>\n",
       "    </tr>\n",
       "    <tr>\n",
       "      <th>1</th>\n",
       "      <td>0</td>\n",
       "      <td>1</td>\n",
       "      <td>2</td>\n",
       "      <td>15</td>\n",
       "      <td>94</td>\n",
       "      <td>3.0</td>\n",
       "      <td>0</td>\n",
       "      <td>0</td>\n",
       "      <td>1</td>\n",
       "      <td>0</td>\n",
       "      <td>3</td>\n",
       "    </tr>\n",
       "    <tr>\n",
       "      <th>2</th>\n",
       "      <td>1</td>\n",
       "      <td>0</td>\n",
       "      <td>0</td>\n",
       "      <td>16</td>\n",
       "      <td>86</td>\n",
       "      <td>3.0</td>\n",
       "      <td>0</td>\n",
       "      <td>0</td>\n",
       "      <td>1</td>\n",
       "      <td>0</td>\n",
       "      <td>2</td>\n",
       "    </tr>\n",
       "    <tr>\n",
       "      <th>3</th>\n",
       "      <td>0</td>\n",
       "      <td>1</td>\n",
       "      <td>2</td>\n",
       "      <td>13</td>\n",
       "      <td>94</td>\n",
       "      <td>3.0</td>\n",
       "      <td>0</td>\n",
       "      <td>0</td>\n",
       "      <td>1</td>\n",
       "      <td>0</td>\n",
       "      <td>3</td>\n",
       "    </tr>\n",
       "    <tr>\n",
       "      <th>4</th>\n",
       "      <td>1</td>\n",
       "      <td>1</td>\n",
       "      <td>2</td>\n",
       "      <td>12</td>\n",
       "      <td>85</td>\n",
       "      <td>3.3</td>\n",
       "      <td>0</td>\n",
       "      <td>0</td>\n",
       "      <td>1</td>\n",
       "      <td>0</td>\n",
       "      <td>2</td>\n",
       "    </tr>\n",
       "  </tbody>\n",
       "</table>\n",
       "</div>"
      ],
      "text/plain": [
       "   Gender  LoanOffered  Job  WorkExp  CreditScore  EMIRatio  Status  \\\n",
       "0       1            0    0       14           86       3.0       0   \n",
       "1       0            1    2       15           94       3.0       0   \n",
       "2       1            0    0       16           86       3.0       0   \n",
       "3       0            1    2       13           94       3.0       0   \n",
       "4       1            1    2       12           85       3.3       0   \n",
       "\n",
       "   CreditHistory  Ownhouse  Purpose  Dependents  \n",
       "0              0         1        0           2  \n",
       "1              0         1        0           3  \n",
       "2              0         1        0           2  \n",
       "3              0         1        0           3  \n",
       "4              0         1        0           2  "
      ]
     },
     "execution_count": 277,
     "metadata": {},
     "output_type": "execute_result"
    }
   ],
   "source": [
    "df.head()\n",
    "#all of our categorical variables have been encoded. "
   ]
  },
  {
   "cell_type": "code",
   "execution_count": 278,
   "id": "58176fea",
   "metadata": {},
   "outputs": [],
   "source": [
    "#Chi square test of independence \n",
    "\n",
    "cat_cols=['Gender','LoanOffered','Job','CreditHistory','Purpose']"
   ]
  },
  {
   "cell_type": "code",
   "execution_count": 279,
   "id": "48a09f69",
   "metadata": {},
   "outputs": [
    {
     "name": "stdout",
     "output_type": "stream",
     "text": [
      "Gender has a significant influence on Status column (Rejects Null Hypothesis)\n",
      "LoanOffered has a significant influence on Status column (Rejects Null Hypothesis)\n",
      "Job has a significant influence on Status column (Rejects Null Hypothesis)\n",
      "CreditHistory has a significant influence on Status column (Rejects Null Hypothesis)\n",
      "Purpose does not have a significant influence on column (Accepts Null Hypothesis)\n"
     ]
    }
   ],
   "source": [
    "import statsmodels.api as sm\n",
    "import scipy.stats as st\n",
    "from scipy.stats import chi2_contingency\n",
    "\n",
    "scol = []   #store cat_cols\n",
    "spval = []  #Store Pvalue\n",
    "ss = []  #results\n",
    "\n",
    "for n in cat_cols:\n",
    "    scol.append(n)\n",
    "    cp = chi2_contingency(pd.crosstab(df[n], df['Status']))[1]\n",
    "    spval.append(round(cp, 4))\n",
    "    if cp < 0.5:\n",
    "        ss.append('*')  # significant (rejects Null Hypothesis)\n",
    "    else:\n",
    "        ss.append('**')  # not significant (Accepts Null Hypothesis)\n",
    "\n",
    "for i in range(len(scol)):\n",
    "    if ss[i] == '*':\n",
    "        print(f\"{scol[i]} has a significant influence on Status column (Rejects Null Hypothesis)\")\n",
    "    else:\n",
    "        print(f\"{scol[i]} does not have a significant influence on column (Accepts Null Hypothesis)\")\n",
    "\n",
    "      "
   ]
  },
  {
   "cell_type": "code",
   "execution_count": 280,
   "id": "dbae03c9",
   "metadata": {},
   "outputs": [
    {
     "data": {
      "text/html": [
       "<div>\n",
       "<style scoped>\n",
       "    .dataframe tbody tr th:only-of-type {\n",
       "        vertical-align: middle;\n",
       "    }\n",
       "\n",
       "    .dataframe tbody tr th {\n",
       "        vertical-align: top;\n",
       "    }\n",
       "\n",
       "    .dataframe thead th {\n",
       "        text-align: right;\n",
       "    }\n",
       "</style>\n",
       "<table border=\"1\" class=\"dataframe\">\n",
       "  <thead>\n",
       "    <tr style=\"text-align: right;\">\n",
       "      <th></th>\n",
       "      <th>Feature</th>\n",
       "      <th>P-Value</th>\n",
       "      <th>Significance</th>\n",
       "    </tr>\n",
       "  </thead>\n",
       "  <tbody>\n",
       "    <tr>\n",
       "      <th>0</th>\n",
       "      <td>Gender</td>\n",
       "      <td>0.2254</td>\n",
       "      <td>*</td>\n",
       "    </tr>\n",
       "    <tr>\n",
       "      <th>1</th>\n",
       "      <td>LoanOffered</td>\n",
       "      <td>0.0143</td>\n",
       "      <td>*</td>\n",
       "    </tr>\n",
       "    <tr>\n",
       "      <th>2</th>\n",
       "      <td>Job</td>\n",
       "      <td>0.0216</td>\n",
       "      <td>*</td>\n",
       "    </tr>\n",
       "    <tr>\n",
       "      <th>3</th>\n",
       "      <td>CreditHistory</td>\n",
       "      <td>0.0000</td>\n",
       "      <td>*</td>\n",
       "    </tr>\n",
       "    <tr>\n",
       "      <th>4</th>\n",
       "      <td>Purpose</td>\n",
       "      <td>0.7976</td>\n",
       "      <td>**</td>\n",
       "    </tr>\n",
       "  </tbody>\n",
       "</table>\n",
       "</div>"
      ],
      "text/plain": [
       "         Feature  P-Value Significance\n",
       "0         Gender   0.2254            *\n",
       "1    LoanOffered   0.0143            *\n",
       "2            Job   0.0216            *\n",
       "3  CreditHistory   0.0000            *\n",
       "4        Purpose   0.7976           **"
      ]
     },
     "execution_count": 280,
     "metadata": {},
     "output_type": "execute_result"
    }
   ],
   "source": [
    "pd.DataFrame({'Feature': scol, 'P-Value': spval, 'Significance': ss})\n"
   ]
  },
  {
   "cell_type": "code",
   "execution_count": 283,
   "id": "4477bcf6",
   "metadata": {},
   "outputs": [
    {
     "data": {
      "text/plain": [
       "Gender           0\n",
       "LoanOffered      0\n",
       "Job              0\n",
       "WorkExp          0\n",
       "CreditScore      0\n",
       "EMIRatio         0\n",
       "Status           0\n",
       "CreditHistory    0\n",
       "Ownhouse         0\n",
       "Purpose          0\n",
       "Dependents       0\n",
       "dtype: int64"
      ]
     },
     "execution_count": 283,
     "metadata": {},
     "output_type": "execute_result"
    }
   ],
   "source": [
    "df.isnull().sum()"
   ]
  },
  {
   "cell_type": "markdown",
   "id": "fa3d4950",
   "metadata": {},
   "source": [
    "# Data set split "
   ]
  },
  {
   "cell_type": "code",
   "execution_count": 284,
   "id": "7531bbab",
   "metadata": {},
   "outputs": [
    {
     "data": {
      "text/plain": [
       "0    0\n",
       "1    0\n",
       "2    0\n",
       "3    0\n",
       "4    0\n",
       "Name: Status, dtype: int64"
      ]
     },
     "execution_count": 284,
     "metadata": {},
     "output_type": "execute_result"
    }
   ],
   "source": [
    "y = df['Status'];y.head()"
   ]
  },
  {
   "cell_type": "code",
   "execution_count": 285,
   "id": "fb4ee258",
   "metadata": {},
   "outputs": [
    {
     "data": {
      "text/html": [
       "<div>\n",
       "<style scoped>\n",
       "    .dataframe tbody tr th:only-of-type {\n",
       "        vertical-align: middle;\n",
       "    }\n",
       "\n",
       "    .dataframe tbody tr th {\n",
       "        vertical-align: top;\n",
       "    }\n",
       "\n",
       "    .dataframe thead th {\n",
       "        text-align: right;\n",
       "    }\n",
       "</style>\n",
       "<table border=\"1\" class=\"dataframe\">\n",
       "  <thead>\n",
       "    <tr style=\"text-align: right;\">\n",
       "      <th></th>\n",
       "      <th>Gender</th>\n",
       "      <th>LoanOffered</th>\n",
       "      <th>Job</th>\n",
       "      <th>WorkExp</th>\n",
       "      <th>CreditScore</th>\n",
       "      <th>EMIRatio</th>\n",
       "      <th>CreditHistory</th>\n",
       "      <th>Ownhouse</th>\n",
       "      <th>Purpose</th>\n",
       "      <th>Dependents</th>\n",
       "    </tr>\n",
       "  </thead>\n",
       "  <tbody>\n",
       "    <tr>\n",
       "      <th>0</th>\n",
       "      <td>1</td>\n",
       "      <td>0</td>\n",
       "      <td>0</td>\n",
       "      <td>14</td>\n",
       "      <td>86</td>\n",
       "      <td>3.0</td>\n",
       "      <td>0</td>\n",
       "      <td>1</td>\n",
       "      <td>0</td>\n",
       "      <td>2</td>\n",
       "    </tr>\n",
       "    <tr>\n",
       "      <th>1</th>\n",
       "      <td>0</td>\n",
       "      <td>1</td>\n",
       "      <td>2</td>\n",
       "      <td>15</td>\n",
       "      <td>94</td>\n",
       "      <td>3.0</td>\n",
       "      <td>0</td>\n",
       "      <td>1</td>\n",
       "      <td>0</td>\n",
       "      <td>3</td>\n",
       "    </tr>\n",
       "    <tr>\n",
       "      <th>2</th>\n",
       "      <td>1</td>\n",
       "      <td>0</td>\n",
       "      <td>0</td>\n",
       "      <td>16</td>\n",
       "      <td>86</td>\n",
       "      <td>3.0</td>\n",
       "      <td>0</td>\n",
       "      <td>1</td>\n",
       "      <td>0</td>\n",
       "      <td>2</td>\n",
       "    </tr>\n",
       "    <tr>\n",
       "      <th>3</th>\n",
       "      <td>0</td>\n",
       "      <td>1</td>\n",
       "      <td>2</td>\n",
       "      <td>13</td>\n",
       "      <td>94</td>\n",
       "      <td>3.0</td>\n",
       "      <td>0</td>\n",
       "      <td>1</td>\n",
       "      <td>0</td>\n",
       "      <td>3</td>\n",
       "    </tr>\n",
       "    <tr>\n",
       "      <th>4</th>\n",
       "      <td>1</td>\n",
       "      <td>1</td>\n",
       "      <td>2</td>\n",
       "      <td>12</td>\n",
       "      <td>85</td>\n",
       "      <td>3.3</td>\n",
       "      <td>0</td>\n",
       "      <td>1</td>\n",
       "      <td>0</td>\n",
       "      <td>2</td>\n",
       "    </tr>\n",
       "  </tbody>\n",
       "</table>\n",
       "</div>"
      ],
      "text/plain": [
       "   Gender  LoanOffered  Job  WorkExp  CreditScore  EMIRatio  CreditHistory  \\\n",
       "0       1            0    0       14           86       3.0              0   \n",
       "1       0            1    2       15           94       3.0              0   \n",
       "2       1            0    0       16           86       3.0              0   \n",
       "3       0            1    2       13           94       3.0              0   \n",
       "4       1            1    2       12           85       3.3              0   \n",
       "\n",
       "   Ownhouse  Purpose  Dependents  \n",
       "0         1        0           2  \n",
       "1         1        0           3  \n",
       "2         1        0           2  \n",
       "3         1        0           3  \n",
       "4         1        0           2  "
      ]
     },
     "execution_count": 285,
     "metadata": {},
     "output_type": "execute_result"
    }
   ],
   "source": [
    "X = df.drop('Status',axis = 1);X.head()"
   ]
  },
  {
   "cell_type": "code",
   "execution_count": 288,
   "id": "584f4bfe",
   "metadata": {},
   "outputs": [],
   "source": [
    "from sklearn.model_selection import train_test_split\n",
    "X_train,X_test,y_train,y_test = train_test_split(X,y,test_size=0.25,random_state=111)\n"
   ]
  },
  {
   "cell_type": "markdown",
   "id": "56a90434",
   "metadata": {},
   "source": [
    "# Base model (Random Forest)"
   ]
  },
  {
   "cell_type": "code",
   "execution_count": 289,
   "id": "a73c1d6c",
   "metadata": {},
   "outputs": [
    {
     "data": {
      "text/plain": [
       "0.9895833333333334"
      ]
     },
     "execution_count": 289,
     "metadata": {},
     "output_type": "execute_result"
    }
   ],
   "source": [
    "from sklearn.ensemble import RandomForestClassifier\n",
    "RFC =RandomForestClassifier(n_estimators=50)\n",
    "RFC.fit(X_train,y_train)\n",
    "RFC.score(X_test,y_test)\n"
   ]
  },
  {
   "cell_type": "code",
   "execution_count": 290,
   "id": "91bc9354",
   "metadata": {},
   "outputs": [
    {
     "name": "stdout",
     "output_type": "stream",
     "text": [
      "model score: 0.9895833333333334\n",
      "confusion matrix:\n",
      " [[157   1]\n",
      " [  1  33]]\n",
      "On testing dataset:\n",
      "               precision    recall  f1-score   support\n",
      "\n",
      "           0       0.99      0.99      0.99       158\n",
      "           1       0.97      0.97      0.97        34\n",
      "\n",
      "    accuracy                           0.99       192\n",
      "   macro avg       0.98      0.98      0.98       192\n",
      "weighted avg       0.99      0.99      0.99       192\n",
      "\n"
     ]
    }
   ],
   "source": [
    "from sklearn.metrics import classification_report,confusion_matrix,accuracy_score\n",
    "y_test_predict = RFC.predict(X_test)\n",
    "model_score = RFC.score(X_test, y_test)\n",
    "print('model score:',model_score)\n",
    "print('confusion matrix:\\n',confusion_matrix(y_test, y_test_predict))\n",
    "print('On testing dataset:\\n',classification_report(y_test, y_test_predict))"
   ]
  },
  {
   "cell_type": "code",
   "execution_count": 291,
   "id": "31e8e28d",
   "metadata": {},
   "outputs": [
    {
     "data": {
      "text/html": [
       "<div>\n",
       "<style scoped>\n",
       "    .dataframe tbody tr th:only-of-type {\n",
       "        vertical-align: middle;\n",
       "    }\n",
       "\n",
       "    .dataframe tbody tr th {\n",
       "        vertical-align: top;\n",
       "    }\n",
       "\n",
       "    .dataframe thead th {\n",
       "        text-align: right;\n",
       "    }\n",
       "</style>\n",
       "<table border=\"1\" class=\"dataframe\">\n",
       "  <thead>\n",
       "    <tr style=\"text-align: right;\">\n",
       "      <th></th>\n",
       "      <th>Predicted_0</th>\n",
       "      <th>Predicted_1</th>\n",
       "    </tr>\n",
       "  </thead>\n",
       "  <tbody>\n",
       "    <tr>\n",
       "      <th>Actual_0</th>\n",
       "      <td>157</td>\n",
       "      <td>1</td>\n",
       "    </tr>\n",
       "    <tr>\n",
       "      <th>Actual_1</th>\n",
       "      <td>1</td>\n",
       "      <td>33</td>\n",
       "    </tr>\n",
       "  </tbody>\n",
       "</table>\n",
       "</div>"
      ],
      "text/plain": [
       "          Predicted_0  Predicted_1\n",
       "Actual_0          157            1\n",
       "Actual_1            1           33"
      ]
     },
     "execution_count": 291,
     "metadata": {},
     "output_type": "execute_result"
    }
   ],
   "source": [
    "from pandas import DataFrame\n",
    "aa=confusion_matrix(y_test_predict,y_test)\n",
    "df1=DataFrame(aa,index=('Actual_0', 'Actual_1',),columns=('Predicted_0','Predicted_1'))\n",
    "df1"
   ]
  },
  {
   "cell_type": "markdown",
   "id": "3cd96ee6",
   "metadata": {},
   "source": [
    "# SVM (support vector machines)"
   ]
  },
  {
   "cell_type": "code",
   "execution_count": 292,
   "id": "d36a4b4f",
   "metadata": {},
   "outputs": [
    {
     "data": {
      "text/plain": [
       "0.8854166666666666"
      ]
     },
     "execution_count": 292,
     "metadata": {},
     "output_type": "execute_result"
    }
   ],
   "source": [
    "from sklearn.svm import SVC\n",
    "svm = SVC(C = 10)\n",
    "svm.fit(X_train,y_train)\n",
    "svm.score(X_test,y_test)"
   ]
  },
  {
   "cell_type": "code",
   "execution_count": 293,
   "id": "67e44b10",
   "metadata": {},
   "outputs": [
    {
     "name": "stdout",
     "output_type": "stream",
     "text": [
      "model score: 0.8854166666666666\n",
      "confusion matrix:\n",
      " [[155   3]\n",
      " [ 19  15]]\n",
      "On testing dataset:\n",
      "               precision    recall  f1-score   support\n",
      "\n",
      "           0       0.89      0.98      0.93       158\n",
      "           1       0.83      0.44      0.58        34\n",
      "\n",
      "    accuracy                           0.89       192\n",
      "   macro avg       0.86      0.71      0.76       192\n",
      "weighted avg       0.88      0.89      0.87       192\n",
      "\n"
     ]
    }
   ],
   "source": [
    "y_test_predict = svm.predict(X_test)\n",
    "model_score = svm.score(X_test, y_test)\n",
    "print('model score:',model_score)\n",
    "print('confusion matrix:\\n',confusion_matrix(y_test, y_test_predict))\n",
    "print('On testing dataset:\\n',classification_report(y_test, y_test_predict))"
   ]
  },
  {
   "cell_type": "code",
   "execution_count": 294,
   "id": "d5c20f05",
   "metadata": {},
   "outputs": [
    {
     "data": {
      "text/html": [
       "<div>\n",
       "<style scoped>\n",
       "    .dataframe tbody tr th:only-of-type {\n",
       "        vertical-align: middle;\n",
       "    }\n",
       "\n",
       "    .dataframe tbody tr th {\n",
       "        vertical-align: top;\n",
       "    }\n",
       "\n",
       "    .dataframe thead th {\n",
       "        text-align: right;\n",
       "    }\n",
       "</style>\n",
       "<table border=\"1\" class=\"dataframe\">\n",
       "  <thead>\n",
       "    <tr style=\"text-align: right;\">\n",
       "      <th></th>\n",
       "      <th>Predicted_0</th>\n",
       "      <th>Predicted_1</th>\n",
       "    </tr>\n",
       "  </thead>\n",
       "  <tbody>\n",
       "    <tr>\n",
       "      <th>Actual_0</th>\n",
       "      <td>155</td>\n",
       "      <td>19</td>\n",
       "    </tr>\n",
       "    <tr>\n",
       "      <th>Actual_1</th>\n",
       "      <td>3</td>\n",
       "      <td>15</td>\n",
       "    </tr>\n",
       "  </tbody>\n",
       "</table>\n",
       "</div>"
      ],
      "text/plain": [
       "          Predicted_0  Predicted_1\n",
       "Actual_0          155           19\n",
       "Actual_1            3           15"
      ]
     },
     "execution_count": 294,
     "metadata": {},
     "output_type": "execute_result"
    }
   ],
   "source": [
    "from pandas import DataFrame\n",
    "ap=confusion_matrix(y_test_predict,y_test)\n",
    "df11=DataFrame(ap,index=('Actual_0', 'Actual_1'),columns=('Predicted_0','Predicted_1'))\n",
    "df11"
   ]
  },
  {
   "cell_type": "code",
   "execution_count": 295,
   "id": "7890b5e6",
   "metadata": {},
   "outputs": [
    {
     "name": "stdout",
     "output_type": "stream",
     "text": [
      "cross validation with Rand Forest [0.9025974  0.97402597 0.98051948 0.98039216 0.94117647]\n"
     ]
    }
   ],
   "source": [
    "from sklearn.model_selection import cross_val_score\n",
    "print('cross validation with Rand Forest',cross_val_score(RandomForestClassifier(n_estimators = 50),X,y))"
   ]
  },
  {
   "cell_type": "code",
   "execution_count": 296,
   "id": "a52d3c0f",
   "metadata": {},
   "outputs": [
    {
     "name": "stdout",
     "output_type": "stream",
     "text": [
      "cross validation with SVM [0.87662338 0.8961039  0.93506494 0.95424837 0.90196078]\n"
     ]
    }
   ],
   "source": [
    "print('cross validation with SVM',cross_val_score(SVC(C=10),X,y))"
   ]
  },
  {
   "cell_type": "code",
   "execution_count": 298,
   "id": "72dd3cfe",
   "metadata": {},
   "outputs": [
    {
     "name": "stdout",
     "output_type": "stream",
     "text": [
      "cross validation with Logistic regr [0.88311688 0.96103896 0.99350649 0.98039216 0.79738562]\n",
      "cross validation with KNN [0.91558442 0.94805195 0.97402597 0.92156863 0.92810458]\n"
     ]
    }
   ],
   "source": [
    "from sklearn.linear_model import LogisticRegression\n",
    "from sklearn.neighbors import KNeighborsClassifier\n",
    "print('cross validation with Logistic regr',cross_val_score(LogisticRegression(solver='liblinear',multi_class='ovr'),X,y))\n",
    "print('cross validation with KNN',cross_val_score(KNeighborsClassifier(n_neighbors=10),X,y))"
   ]
  },
  {
   "cell_type": "markdown",
   "id": "d9e76ec7",
   "metadata": {},
   "source": [
    "# MLP (normalized )"
   ]
  },
  {
   "cell_type": "code",
   "execution_count": 299,
   "id": "1d111d39",
   "metadata": {},
   "outputs": [],
   "source": [
    "def scaler(x):\n",
    "    p = (x - x.min())/(x.max() - x.min())\n",
    "    return p\n",
    "#custom normalizaion function ( min max normalization)"
   ]
  },
  {
   "cell_type": "code",
   "execution_count": 300,
   "id": "83437761",
   "metadata": {},
   "outputs": [],
   "source": [
    "Xn = X.apply(scaler)"
   ]
  },
  {
   "cell_type": "code",
   "execution_count": 301,
   "id": "3a0db626",
   "metadata": {},
   "outputs": [
    {
     "data": {
      "text/html": [
       "<div>\n",
       "<style scoped>\n",
       "    .dataframe tbody tr th:only-of-type {\n",
       "        vertical-align: middle;\n",
       "    }\n",
       "\n",
       "    .dataframe tbody tr th {\n",
       "        vertical-align: top;\n",
       "    }\n",
       "\n",
       "    .dataframe thead th {\n",
       "        text-align: right;\n",
       "    }\n",
       "</style>\n",
       "<table border=\"1\" class=\"dataframe\">\n",
       "  <thead>\n",
       "    <tr style=\"text-align: right;\">\n",
       "      <th></th>\n",
       "      <th>Gender</th>\n",
       "      <th>LoanOffered</th>\n",
       "      <th>Job</th>\n",
       "      <th>WorkExp</th>\n",
       "      <th>CreditScore</th>\n",
       "      <th>EMIRatio</th>\n",
       "      <th>CreditHistory</th>\n",
       "      <th>Ownhouse</th>\n",
       "      <th>Purpose</th>\n",
       "      <th>Dependents</th>\n",
       "    </tr>\n",
       "  </thead>\n",
       "  <tbody>\n",
       "    <tr>\n",
       "      <th>0</th>\n",
       "      <td>1.0</td>\n",
       "      <td>0.0</td>\n",
       "      <td>0.0</td>\n",
       "      <td>0.736842</td>\n",
       "      <td>0.771930</td>\n",
       "      <td>0.000</td>\n",
       "      <td>0.0</td>\n",
       "      <td>1.0</td>\n",
       "      <td>0.0</td>\n",
       "      <td>0.50</td>\n",
       "    </tr>\n",
       "    <tr>\n",
       "      <th>1</th>\n",
       "      <td>0.0</td>\n",
       "      <td>1.0</td>\n",
       "      <td>1.0</td>\n",
       "      <td>0.789474</td>\n",
       "      <td>0.912281</td>\n",
       "      <td>0.000</td>\n",
       "      <td>0.0</td>\n",
       "      <td>1.0</td>\n",
       "      <td>0.0</td>\n",
       "      <td>0.75</td>\n",
       "    </tr>\n",
       "    <tr>\n",
       "      <th>2</th>\n",
       "      <td>1.0</td>\n",
       "      <td>0.0</td>\n",
       "      <td>0.0</td>\n",
       "      <td>0.842105</td>\n",
       "      <td>0.771930</td>\n",
       "      <td>0.000</td>\n",
       "      <td>0.0</td>\n",
       "      <td>1.0</td>\n",
       "      <td>0.0</td>\n",
       "      <td>0.50</td>\n",
       "    </tr>\n",
       "    <tr>\n",
       "      <th>3</th>\n",
       "      <td>0.0</td>\n",
       "      <td>1.0</td>\n",
       "      <td>1.0</td>\n",
       "      <td>0.684211</td>\n",
       "      <td>0.912281</td>\n",
       "      <td>0.000</td>\n",
       "      <td>0.0</td>\n",
       "      <td>1.0</td>\n",
       "      <td>0.0</td>\n",
       "      <td>0.75</td>\n",
       "    </tr>\n",
       "    <tr>\n",
       "      <th>4</th>\n",
       "      <td>1.0</td>\n",
       "      <td>1.0</td>\n",
       "      <td>1.0</td>\n",
       "      <td>0.631579</td>\n",
       "      <td>0.754386</td>\n",
       "      <td>0.025</td>\n",
       "      <td>0.0</td>\n",
       "      <td>1.0</td>\n",
       "      <td>0.0</td>\n",
       "      <td>0.50</td>\n",
       "    </tr>\n",
       "  </tbody>\n",
       "</table>\n",
       "</div>"
      ],
      "text/plain": [
       "   Gender  LoanOffered  Job   WorkExp  CreditScore  EMIRatio  CreditHistory  \\\n",
       "0     1.0          0.0  0.0  0.736842     0.771930     0.000            0.0   \n",
       "1     0.0          1.0  1.0  0.789474     0.912281     0.000            0.0   \n",
       "2     1.0          0.0  0.0  0.842105     0.771930     0.000            0.0   \n",
       "3     0.0          1.0  1.0  0.684211     0.912281     0.000            0.0   \n",
       "4     1.0          1.0  1.0  0.631579     0.754386     0.025            0.0   \n",
       "\n",
       "   Ownhouse  Purpose  Dependents  \n",
       "0       1.0      0.0        0.50  \n",
       "1       1.0      0.0        0.75  \n",
       "2       1.0      0.0        0.50  \n",
       "3       1.0      0.0        0.75  \n",
       "4       1.0      0.0        0.50  "
      ]
     },
     "execution_count": 301,
     "metadata": {},
     "output_type": "execute_result"
    }
   ],
   "source": [
    "Xn.head()"
   ]
  },
  {
   "cell_type": "code",
   "execution_count": 304,
   "id": "097156b8",
   "metadata": {},
   "outputs": [],
   "source": [
    "from sklearn.model_selection import train_test_split\n",
    "X_train,X_test,y_train,y_test = train_test_split(Xn,y,test_size=0.25,random_state=111)\n",
    "from sklearn.neural_network import MLPClassifier"
   ]
  },
  {
   "cell_type": "code",
   "execution_count": 305,
   "id": "e22d8d46",
   "metadata": {},
   "outputs": [
    {
     "data": {
      "text/plain": [
       "0.9947916666666666"
      ]
     },
     "execution_count": 305,
     "metadata": {},
     "output_type": "execute_result"
    }
   ],
   "source": [
    "mlp = MLPClassifier(max_iter=1000, random_state=42)\n",
    "mlp.fit(X_train,y_train)\n",
    "mlp.score(X_test,y_test) #(test data score)\n",
    "\n",
    "\n",
    "\n"
   ]
  },
  {
   "cell_type": "code",
   "execution_count": 306,
   "id": "94992d6a",
   "metadata": {},
   "outputs": [
    {
     "name": "stdout",
     "output_type": "stream",
     "text": [
      "model score: 0.9947916666666666\n",
      "confusion matrix:\n",
      " [[158   0]\n",
      " [  1  33]]\n",
      "On testing dataset:\n",
      "               precision    recall  f1-score   support\n",
      "\n",
      "           0       0.99      1.00      1.00       158\n",
      "           1       1.00      0.97      0.99        34\n",
      "\n",
      "    accuracy                           0.99       192\n",
      "   macro avg       1.00      0.99      0.99       192\n",
      "weighted avg       0.99      0.99      0.99       192\n",
      "\n"
     ]
    }
   ],
   "source": [
    "y_test_predict = mlp.predict(X_test)\n",
    "model_score = mlp.score(X_test, y_test)\n",
    "print('model score:',model_score)\n",
    "print('confusion matrix:\\n',confusion_matrix(y_test, y_test_predict))\n",
    "print('On testing dataset:\\n',classification_report(y_test, y_test_predict))"
   ]
  },
  {
   "cell_type": "code",
   "execution_count": 307,
   "id": "d00513d4",
   "metadata": {},
   "outputs": [
    {
     "data": {
      "text/html": [
       "<div>\n",
       "<style scoped>\n",
       "    .dataframe tbody tr th:only-of-type {\n",
       "        vertical-align: middle;\n",
       "    }\n",
       "\n",
       "    .dataframe tbody tr th {\n",
       "        vertical-align: top;\n",
       "    }\n",
       "\n",
       "    .dataframe thead th {\n",
       "        text-align: right;\n",
       "    }\n",
       "</style>\n",
       "<table border=\"1\" class=\"dataframe\">\n",
       "  <thead>\n",
       "    <tr style=\"text-align: right;\">\n",
       "      <th></th>\n",
       "      <th>Predicted_0</th>\n",
       "      <th>Predicted_1</th>\n",
       "    </tr>\n",
       "  </thead>\n",
       "  <tbody>\n",
       "    <tr>\n",
       "      <th>Actual_0</th>\n",
       "      <td>158</td>\n",
       "      <td>1</td>\n",
       "    </tr>\n",
       "    <tr>\n",
       "      <th>Actual_1</th>\n",
       "      <td>0</td>\n",
       "      <td>33</td>\n",
       "    </tr>\n",
       "  </tbody>\n",
       "</table>\n",
       "</div>"
      ],
      "text/plain": [
       "          Predicted_0  Predicted_1\n",
       "Actual_0          158            1\n",
       "Actual_1            0           33"
      ]
     },
     "execution_count": 307,
     "metadata": {},
     "output_type": "execute_result"
    }
   ],
   "source": [
    "\n",
    "ap=confusion_matrix(y_test_predict,y_test)\n",
    "df111=DataFrame(ap,index=('Actual_0', 'Actual_1'),columns=('Predicted_0','Predicted_1'))\n",
    "df111"
   ]
  },
  {
   "cell_type": "code",
   "execution_count": 308,
   "id": "e007d907",
   "metadata": {},
   "outputs": [
    {
     "data": {
      "text/plain": [
       "0.9895833333333334"
      ]
     },
     "execution_count": 308,
     "metadata": {},
     "output_type": "execute_result"
    }
   ],
   "source": [
    "mlp = MLPClassifier(max_iter=1000, random_state=42, hidden_layer_sizes=(100,),\n",
    "    activation='tanh',\n",
    "    solver='adam',\n",
    "    alpha=0.01,\n",
    "    batch_size='auto',\n",
    "    learning_rate='constant',)\n",
    "mlp.fit(X_train,y_train)\n",
    "mlp.score(X_test,y_test)\n"
   ]
  },
  {
   "cell_type": "code",
   "execution_count": 309,
   "id": "7121b25b",
   "metadata": {},
   "outputs": [
    {
     "name": "stdout",
     "output_type": "stream",
     "text": [
      "cross validation with KNN (with normalization): [0.87662338 0.92207792 0.97402597 0.94117647 0.96732026]\n",
      "cross validation with SVM (with normalization): [0.93506494 0.96753247 0.99350649 0.9869281  0.97385621]\n"
     ]
    }
   ],
   "source": [
    "print('cross validation with KNN (with normalization):',cross_val_score(KNeighborsClassifier(n_neighbors=10),Xn,y))\n",
    "print('cross validation with SVM (with normalization):',cross_val_score(SVC(C=10),Xn,y))\n"
   ]
  },
  {
   "cell_type": "code",
   "execution_count": 310,
   "id": "afaf6c92",
   "metadata": {},
   "outputs": [
    {
     "name": "stdout",
     "output_type": "stream",
     "text": [
      "model score: 0.9895833333333334\n",
      "confusion matrix:\n",
      " [[157   1]\n",
      " [  1  33]]\n",
      "On testing dataset:\n",
      "               precision    recall  f1-score   support\n",
      "\n",
      "           0       0.99      0.99      0.99       158\n",
      "           1       0.97      0.97      0.97        34\n",
      "\n",
      "    accuracy                           0.99       192\n",
      "   macro avg       0.98      0.98      0.98       192\n",
      "weighted avg       0.99      0.99      0.99       192\n",
      "\n"
     ]
    }
   ],
   "source": [
    "y_test_predict = mlp.predict(X_test)\n",
    "model_score = mlp.score(X_test, y_test)\n",
    "print('model score:',model_score)\n",
    "print('confusion matrix:\\n',confusion_matrix(y_test, y_test_predict))\n",
    "print('On testing dataset:\\n',classification_report(y_test, y_test_predict))"
   ]
  },
  {
   "cell_type": "code",
   "execution_count": 311,
   "id": "04e9ca01",
   "metadata": {},
   "outputs": [
    {
     "data": {
      "text/html": [
       "<div>\n",
       "<style scoped>\n",
       "    .dataframe tbody tr th:only-of-type {\n",
       "        vertical-align: middle;\n",
       "    }\n",
       "\n",
       "    .dataframe tbody tr th {\n",
       "        vertical-align: top;\n",
       "    }\n",
       "\n",
       "    .dataframe thead th {\n",
       "        text-align: right;\n",
       "    }\n",
       "</style>\n",
       "<table border=\"1\" class=\"dataframe\">\n",
       "  <thead>\n",
       "    <tr style=\"text-align: right;\">\n",
       "      <th></th>\n",
       "      <th>Predicted_0</th>\n",
       "      <th>Predicted_1</th>\n",
       "    </tr>\n",
       "  </thead>\n",
       "  <tbody>\n",
       "    <tr>\n",
       "      <th>Actual_0</th>\n",
       "      <td>157</td>\n",
       "      <td>1</td>\n",
       "    </tr>\n",
       "    <tr>\n",
       "      <th>Actual_1</th>\n",
       "      <td>1</td>\n",
       "      <td>33</td>\n",
       "    </tr>\n",
       "  </tbody>\n",
       "</table>\n",
       "</div>"
      ],
      "text/plain": [
       "          Predicted_0  Predicted_1\n",
       "Actual_0          157            1\n",
       "Actual_1            1           33"
      ]
     },
     "execution_count": 311,
     "metadata": {},
     "output_type": "execute_result"
    }
   ],
   "source": [
    "\n",
    "ap=confusion_matrix(y_test_predict,y_test)\n",
    "df111=DataFrame(ap,index=('Actual_0', 'Actual_1'),columns=('Predicted_0','Predicted_1'))\n",
    "df111"
   ]
  },
  {
   "cell_type": "markdown",
   "id": "6d36fba2",
   "metadata": {},
   "source": [
    "# Batch normalized (KERAS)"
   ]
  },
  {
   "cell_type": "code",
   "execution_count": 314,
   "id": "868d9f4d",
   "metadata": {},
   "outputs": [
    {
     "name": "stdout",
     "output_type": "stream",
     "text": [
      "2.13.0\n"
     ]
    }
   ],
   "source": [
    "import tensorflow as tf\n",
    "print(tf.__version__)\n",
    "from tensorflow import keras\n",
    "import matplotlib.pyplot as plt"
   ]
  },
  {
   "cell_type": "code",
   "execution_count": 315,
   "id": "2b5f25e7",
   "metadata": {},
   "outputs": [],
   "source": [
    "X_train,X_test,y_train,y_test = train_test_split(X,y,test_size=0.25, random_state=111)\n"
   ]
  },
  {
   "cell_type": "code",
   "execution_count": 316,
   "id": "bb691509",
   "metadata": {},
   "outputs": [],
   "source": [
    "X_train = tf.keras.utils.normalize(X_train, axis=1)\n",
    "X_test = tf.keras.utils.normalize(X_test, axis=1)"
   ]
  },
  {
   "cell_type": "code",
   "execution_count": 319,
   "id": "dfc532b8",
   "metadata": {},
   "outputs": [
    {
     "name": "stdout",
     "output_type": "stream",
     "text": [
      "Epoch 1/10\n",
      "18/18 [==============================] - 1s 3ms/step - loss: 0.5755 - accuracy: 0.8125\n",
      "Epoch 2/10\n",
      "18/18 [==============================] - 0s 3ms/step - loss: 0.4246 - accuracy: 0.9184\n",
      "Epoch 3/10\n",
      "18/18 [==============================] - 0s 3ms/step - loss: 0.3186 - accuracy: 0.9288\n",
      "Epoch 4/10\n",
      "18/18 [==============================] - 0s 3ms/step - loss: 0.2530 - accuracy: 0.9288\n",
      "Epoch 5/10\n",
      "18/18 [==============================] - 0s 3ms/step - loss: 0.2215 - accuracy: 0.9323\n",
      "Epoch 6/10\n",
      "18/18 [==============================] - 0s 2ms/step - loss: 0.1963 - accuracy: 0.9392\n",
      "Epoch 7/10\n",
      "18/18 [==============================] - 0s 2ms/step - loss: 0.1743 - accuracy: 0.9444\n",
      "Epoch 8/10\n",
      "18/18 [==============================] - 0s 3ms/step - loss: 0.1690 - accuracy: 0.9375\n",
      "Epoch 9/10\n",
      "18/18 [==============================] - 0s 3ms/step - loss: 0.1528 - accuracy: 0.9497\n",
      "Epoch 10/10\n",
      "18/18 [==============================] - 0s 3ms/step - loss: 0.1440 - accuracy: 0.9531\n"
     ]
    },
    {
     "data": {
      "text/plain": [
       "<keras.src.callbacks.History at 0x284a265fe80>"
      ]
     },
     "execution_count": 319,
     "metadata": {},
     "output_type": "execute_result"
    }
   ],
   "source": [
    "model = tf.keras.models.Sequential()\n",
    "model.add(tf.keras.layers.BatchNormalization())\n",
    "model.add(tf.keras.layers.Flatten())\n",
    "model.add(tf.keras.layers.Dense(128,activation=tf.nn.relu)) #relu as default activation\n",
    "model.add(tf.keras.layers.Dense(2,activation=tf.nn.softmax)) #using sigmoid as we'd want a probability distribution\n",
    "\n",
    "model.compile(optimizer='adam',\n",
    "              loss='sparse_categorical_crossentropy',\n",
    "              metrics=['accuracy'])\n",
    "\n",
    "model.fit(X_train, y_train, epochs=10) #in sample fit"
   ]
  },
  {
   "cell_type": "code",
   "execution_count": 321,
   "id": "19b20d36",
   "metadata": {},
   "outputs": [
    {
     "name": "stdout",
     "output_type": "stream",
     "text": [
      "6/6 [==============================] - 0s 3ms/step - loss: 0.5032 - accuracy: 0.8229\n",
      "0.5031836628913879\n",
      "0.8229166865348816\n"
     ]
    }
   ],
   "source": [
    "val_loss, val_acc = model.evaluate(X_test, y_test)\n",
    "print(val_loss)\n",
    "print(val_acc)\n",
    "#out sample accuracy and loss. Model seems to not have overfitting "
   ]
  },
  {
   "cell_type": "code",
   "execution_count": 322,
   "id": "64ba2f9c",
   "metadata": {},
   "outputs": [
    {
     "name": "stdout",
     "output_type": "stream",
     "text": [
      "6/6 [==============================] - 0s 5ms/step\n",
      "[[0.95795816 0.04204179]\n",
      " [0.95709246 0.04290761]\n",
      " [0.9653386  0.0346614 ]\n",
      " [0.9437756  0.05622438]\n",
      " [0.95857185 0.0414281 ]\n",
      " [0.96379197 0.03620804]\n",
      " [0.96059805 0.03940193]\n",
      " [0.9493209  0.05067907]\n",
      " [0.90204644 0.09795357]\n",
      " [0.95115954 0.04884045]\n",
      " [0.96016705 0.03983289]\n",
      " [0.95952964 0.04047041]\n",
      " [0.9511715  0.04882842]\n",
      " [0.9554131  0.04458696]\n",
      " [0.95386845 0.04613158]\n",
      " [0.91948915 0.08051082]\n",
      " [0.95448923 0.0455108 ]\n",
      " [0.9601052  0.03989476]\n",
      " [0.95239043 0.04760962]\n",
      " [0.9617475  0.03825246]\n",
      " [0.9580874  0.04191257]\n",
      " [0.95715207 0.04284788]\n",
      " [0.89731765 0.10268235]\n",
      " [0.93340784 0.06659219]\n",
      " [0.93537074 0.06462927]\n",
      " [0.9575608  0.04243922]\n",
      " [0.95223254 0.04776744]\n",
      " [0.9613591  0.03864093]\n",
      " [0.95547575 0.04452426]\n",
      " [0.9581196  0.04188038]\n",
      " [0.952485   0.04751501]\n",
      " [0.96243757 0.03756242]\n",
      " [0.9560996  0.04390038]\n",
      " [0.95789105 0.04210894]\n",
      " [0.9535285  0.04647145]\n",
      " [0.9154352  0.08456478]\n",
      " [0.964538   0.03546197]\n",
      " [0.9571667  0.04283326]\n",
      " [0.9588039  0.04119609]\n",
      " [0.96394855 0.03605147]\n",
      " [0.9567715  0.04322851]\n",
      " [0.95351    0.04649007]\n",
      " [0.94699836 0.05300166]\n",
      " [0.9562534  0.04374654]\n",
      " [0.9610291  0.03897087]\n",
      " [0.9582266  0.04177335]\n",
      " [0.95953983 0.04046015]\n",
      " [0.9562022  0.04379783]\n",
      " [0.9488957  0.05110431]\n",
      " [0.96088946 0.03911057]\n",
      " [0.9576828  0.04231722]\n",
      " [0.9584068  0.04159315]\n",
      " [0.9593499  0.0406501 ]\n",
      " [0.9495187  0.0504813 ]\n",
      " [0.9490475  0.05095255]\n",
      " [0.9567825  0.04321742]\n",
      " [0.9424168  0.05758321]\n",
      " [0.9464463  0.05355375]\n",
      " [0.9626974  0.0373026 ]\n",
      " [0.9497071  0.05029288]\n",
      " [0.95842403 0.04157599]\n",
      " [0.9603549  0.03964505]\n",
      " [0.94364035 0.05635959]\n",
      " [0.9342644  0.06573562]\n",
      " [0.9534933  0.04650676]\n",
      " [0.955794   0.04420602]\n",
      " [0.96200424 0.03799577]\n",
      " [0.9390579  0.06094205]\n",
      " [0.9553998  0.04460022]\n",
      " [0.95892066 0.04107932]\n",
      " [0.9353059  0.06469405]\n",
      " [0.94860685 0.05139319]\n",
      " [0.9666589  0.03334112]\n",
      " [0.9627789  0.03722112]\n",
      " [0.9605431  0.03945689]\n",
      " [0.9569426  0.04305733]\n",
      " [0.9530801  0.04691989]\n",
      " [0.9279401  0.07205996]\n",
      " [0.9573621  0.04263784]\n",
      " [0.95575434 0.04424563]\n",
      " [0.9533563  0.04664373]\n",
      " [0.95603645 0.0439636 ]\n",
      " [0.96246266 0.03753734]\n",
      " [0.9089476  0.09105249]\n",
      " [0.9599339  0.04006607]\n",
      " [0.9175226  0.08247745]\n",
      " [0.9649594  0.03504061]\n",
      " [0.8899075  0.11009251]\n",
      " [0.96007067 0.03992937]\n",
      " [0.94738543 0.05261457]\n",
      " [0.9561138  0.04388614]\n",
      " [0.9581988  0.04180123]\n",
      " [0.9505952  0.04940484]\n",
      " [0.96082956 0.03917045]\n",
      " [0.9441963  0.05580369]\n",
      " [0.93843883 0.06156117]\n",
      " [0.9580901  0.0419099 ]\n",
      " [0.94919676 0.05080318]\n",
      " [0.9579691  0.04203092]\n",
      " [0.8311393  0.16886067]\n",
      " [0.88521975 0.11478022]\n",
      " [0.95645773 0.04354221]\n",
      " [0.96584177 0.0341583 ]\n",
      " [0.9606191  0.03938088]\n",
      " [0.8650786  0.13492133]\n",
      " [0.95330834 0.04669169]\n",
      " [0.95900977 0.0409902 ]\n",
      " [0.9611289  0.03887107]\n",
      " [0.9595551  0.04044492]\n",
      " [0.95938575 0.04061425]\n",
      " [0.9538793  0.04612068]\n",
      " [0.94811195 0.05188811]\n",
      " [0.95346445 0.04653551]\n",
      " [0.9060326  0.09396743]\n",
      " [0.9126632  0.08733682]\n",
      " [0.9561625  0.0438375 ]\n",
      " [0.94563127 0.05436868]\n",
      " [0.959053   0.04094709]\n",
      " [0.9517475  0.04825251]\n",
      " [0.94789135 0.0521087 ]\n",
      " [0.95297444 0.04702559]\n",
      " [0.9138149  0.08618511]\n",
      " [0.96392626 0.03607376]\n",
      " [0.9544825  0.04551747]\n",
      " [0.9554193  0.04458069]\n",
      " [0.95535314 0.04464687]\n",
      " [0.94224524 0.05775467]\n",
      " [0.9608593  0.03914068]\n",
      " [0.96025926 0.03974078]\n",
      " [0.9581747  0.04182525]\n",
      " [0.9601032  0.03989676]\n",
      " [0.9625086  0.03749144]\n",
      " [0.95901775 0.04098228]\n",
      " [0.9576054  0.0423946 ]\n",
      " [0.9539538  0.04604615]\n",
      " [0.95348895 0.04651107]\n",
      " [0.96017224 0.03982772]\n",
      " [0.957483   0.04251702]\n",
      " [0.9613342  0.03866581]\n",
      " [0.9616684  0.03833164]\n",
      " [0.96145606 0.03854388]\n",
      " [0.961292   0.03870796]\n",
      " [0.9428322  0.05716783]\n",
      " [0.9576301  0.04236991]\n",
      " [0.95893556 0.04106442]\n",
      " [0.9600575  0.03994245]\n",
      " [0.9586814  0.04131859]\n",
      " [0.95381767 0.04618237]\n",
      " [0.95942736 0.04057269]\n",
      " [0.9503381  0.04966183]\n",
      " [0.9549144  0.04508556]\n",
      " [0.9596236  0.04037645]\n",
      " [0.9431026  0.05689737]\n",
      " [0.9593928  0.04060721]\n",
      " [0.9647149  0.03528512]\n",
      " [0.9628999  0.03710002]\n",
      " [0.96354765 0.03645243]\n",
      " [0.96334106 0.03665897]\n",
      " [0.9497782  0.05022178]\n",
      " [0.9524754  0.04752458]\n",
      " [0.9579576  0.04204239]\n",
      " [0.9524643  0.04753579]\n",
      " [0.9551596  0.04484043]\n",
      " [0.8808297  0.11917033]\n",
      " [0.95971423 0.04028573]\n",
      " [0.9595286  0.04047137]\n",
      " [0.9525152  0.04748476]\n",
      " [0.9531489  0.04685114]\n",
      " [0.951149   0.04885102]\n",
      " [0.8664657  0.13353431]\n",
      " [0.9603893  0.03961064]\n",
      " [0.9600374  0.03996259]\n",
      " [0.9586341  0.04136598]\n",
      " [0.9397106  0.06028937]\n",
      " [0.96101075 0.03898925]\n",
      " [0.958461   0.04153902]\n",
      " [0.9549144  0.04508562]\n",
      " [0.95689666 0.04310327]\n",
      " [0.9552506  0.04474937]\n",
      " [0.95349175 0.04650825]\n",
      " [0.96004385 0.03995618]\n",
      " [0.95324343 0.04675657]\n",
      " [0.960536   0.03946395]\n",
      " [0.957558   0.04244209]\n",
      " [0.9527847  0.04721525]\n",
      " [0.96284556 0.0371544 ]\n",
      " [0.9507629  0.04923707]\n",
      " [0.9298508  0.07014924]\n",
      " [0.9327602  0.06723982]\n",
      " [0.9495939  0.05040615]\n",
      " [0.95866793 0.04133209]\n",
      " [0.93397534 0.06602468]]\n"
     ]
    }
   ],
   "source": [
    "predictions = model.predict(X_test)\n",
    "print(predictions)"
   ]
  },
  {
   "cell_type": "code",
   "execution_count": 323,
   "id": "3b302b12",
   "metadata": {},
   "outputs": [
    {
     "name": "stdout",
     "output_type": "stream",
     "text": [
      "0\n"
     ]
    }
   ],
   "source": [
    "print(np.argmax(predictions[0])) #true predicts of the status column: 0 - no default 1 - default"
   ]
  },
  {
   "cell_type": "code",
   "execution_count": null,
   "id": "8b957fd2",
   "metadata": {},
   "outputs": [],
   "source": []
  }
 ],
 "metadata": {
  "kernelspec": {
   "display_name": "Python 3 (ipykernel)",
   "language": "python",
   "name": "python3"
  },
  "language_info": {
   "codemirror_mode": {
    "name": "ipython",
    "version": 3
   },
   "file_extension": ".py",
   "mimetype": "text/x-python",
   "name": "python",
   "nbconvert_exporter": "python",
   "pygments_lexer": "ipython3",
   "version": "3.9.7"
  }
 },
 "nbformat": 4,
 "nbformat_minor": 5
}
