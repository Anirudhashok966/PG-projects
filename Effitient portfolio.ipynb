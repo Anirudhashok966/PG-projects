{
 "cells": [
  {
   "cell_type": "code",
   "execution_count": 1,
   "id": "4ee35bb3",
   "metadata": {},
   "outputs": [],
   "source": [
    "import numpy as np\n",
    "import pandas as pd\n",
    "import matplotlib.pyplot as plt\n",
    "from scipy.optimize import minimize\n",
    "from nselib import capital_market"
   ]
  },
  {
   "cell_type": "markdown",
   "id": "6e096d7a",
   "metadata": {},
   "source": [
    "# NSE Library to Python!"
   ]
  },
  {
   "cell_type": "markdown",
   "id": "96d90c1d",
   "metadata": {},
   "source": [
    "pip install nselib"
   ]
  },
  {
   "cell_type": "code",
   "execution_count": 2,
   "id": "0180620b",
   "metadata": {},
   "outputs": [],
   "source": [
    "#a=(capital_market.price_volume_and_deliverable_position_data(symbol='INFY',from_date='26-03-2023',to_date='28-03-2024'));a.head()"
   ]
  },
  {
   "cell_type": "code",
   "execution_count": 3,
   "id": "479500e3",
   "metadata": {},
   "outputs": [],
   "source": [
    "#a = capital_market.price_volume_and_deliverable_position_data(symbol='INFY',from_date='26-03-2023',to_date='26-03-2024');a.info()"
   ]
  },
  {
   "cell_type": "code",
   "execution_count": 4,
   "id": "aca920c0",
   "metadata": {},
   "outputs": [],
   "source": [
    "j=['INFY','ITC','SBIN','APOLLOHOSP','TATAPOWER']\n",
    "data_set = pd.DataFrame()\n",
    "\n",
    "for symbol in j:\n",
    "    a=capital_market.price_volume_and_deliverable_position_data(symbol=symbol,from_date='26-03-2023',to_date='26-03-2024')\n",
    "    data_set[symbol]=a.ClosePrice"
   ]
  },
  {
   "cell_type": "code",
   "execution_count": 5,
   "id": "31efd614",
   "metadata": {},
   "outputs": [
    {
     "data": {
      "text/html": [
       "<div>\n",
       "<style scoped>\n",
       "    .dataframe tbody tr th:only-of-type {\n",
       "        vertical-align: middle;\n",
       "    }\n",
       "\n",
       "    .dataframe tbody tr th {\n",
       "        vertical-align: top;\n",
       "    }\n",
       "\n",
       "    .dataframe thead th {\n",
       "        text-align: right;\n",
       "    }\n",
       "</style>\n",
       "<table border=\"1\" class=\"dataframe\">\n",
       "  <thead>\n",
       "    <tr style=\"text-align: right;\">\n",
       "      <th></th>\n",
       "      <th>INFY</th>\n",
       "      <th>ITC</th>\n",
       "      <th>SBIN</th>\n",
       "      <th>APOLLOHOSP</th>\n",
       "      <th>TATAPOWER</th>\n",
       "    </tr>\n",
       "  </thead>\n",
       "  <tbody>\n",
       "    <tr>\n",
       "      <th>0</th>\n",
       "      <td>1,388.95</td>\n",
       "      <td>380.20</td>\n",
       "      <td>510.15</td>\n",
       "      <td>4,318.10</td>\n",
       "      <td>186.65</td>\n",
       "    </tr>\n",
       "    <tr>\n",
       "      <th>1</th>\n",
       "      <td>1,377.60</td>\n",
       "      <td>379.75</td>\n",
       "      <td>508.10</td>\n",
       "      <td>4,333.60</td>\n",
       "      <td>183.95</td>\n",
       "    </tr>\n",
       "    <tr>\n",
       "      <th>2</th>\n",
       "      <td>1,383.55</td>\n",
       "      <td>382.75</td>\n",
       "      <td>516.50</td>\n",
       "      <td>4,363.00</td>\n",
       "      <td>185.50</td>\n",
       "    </tr>\n",
       "    <tr>\n",
       "      <th>3</th>\n",
       "      <td>1,427.95</td>\n",
       "      <td>383.50</td>\n",
       "      <td>523.75</td>\n",
       "      <td>4,310.90</td>\n",
       "      <td>190.25</td>\n",
       "    </tr>\n",
       "    <tr>\n",
       "      <th>4</th>\n",
       "      <td>1,410.85</td>\n",
       "      <td>378.90</td>\n",
       "      <td>526.75</td>\n",
       "      <td>4,234.35</td>\n",
       "      <td>193.95</td>\n",
       "    </tr>\n",
       "  </tbody>\n",
       "</table>\n",
       "</div>"
      ],
      "text/plain": [
       "       INFY     ITC    SBIN APOLLOHOSP  TATAPOWER\n",
       "0  1,388.95  380.20  510.15   4,318.10     186.65\n",
       "1  1,377.60  379.75  508.10   4,333.60     183.95\n",
       "2  1,383.55  382.75  516.50   4,363.00     185.50\n",
       "3  1,427.95  383.50  523.75   4,310.90     190.25\n",
       "4  1,410.85  378.90  526.75   4,234.35     193.95"
      ]
     },
     "execution_count": 5,
     "metadata": {},
     "output_type": "execute_result"
    }
   ],
   "source": [
    "data_set.head()"
   ]
  },
  {
   "cell_type": "code",
   "execution_count": 6,
   "id": "a9baa7c6",
   "metadata": {},
   "outputs": [
    {
     "name": "stdout",
     "output_type": "stream",
     "text": [
      "<class 'pandas.core.frame.DataFrame'>\n",
      "RangeIndex: 251 entries, 0 to 250\n",
      "Data columns (total 5 columns):\n",
      " #   Column      Non-Null Count  Dtype  \n",
      "---  ------      --------------  -----  \n",
      " 0   INFY        251 non-null    object \n",
      " 1   ITC         248 non-null    float64\n",
      " 2   SBIN        248 non-null    float64\n",
      " 3   APOLLOHOSP  248 non-null    object \n",
      " 4   TATAPOWER   248 non-null    float64\n",
      "dtypes: float64(3), object(2)\n",
      "memory usage: 9.9+ KB\n"
     ]
    }
   ],
   "source": [
    "data_set.info()"
   ]
  },
  {
   "cell_type": "code",
   "execution_count": 7,
   "id": "2529e72f",
   "metadata": {},
   "outputs": [],
   "source": [
    "for column in data_set.columns:\n",
    "    if data_set[column].dtype == 'object':\n",
    "        try:\n",
    "            data_set[column] = data_set[column].str.replace(',', '').astype(float)\n",
    "        except ValueError:\n",
    "            print(f\"Unable to convert column '{column}' to float type.\")"
   ]
  },
  {
   "cell_type": "code",
   "execution_count": 8,
   "id": "e5d8c1fa",
   "metadata": {},
   "outputs": [
    {
     "name": "stdout",
     "output_type": "stream",
     "text": [
      "<class 'pandas.core.frame.DataFrame'>\n",
      "RangeIndex: 251 entries, 0 to 250\n",
      "Data columns (total 5 columns):\n",
      " #   Column      Non-Null Count  Dtype  \n",
      "---  ------      --------------  -----  \n",
      " 0   INFY        251 non-null    float64\n",
      " 1   ITC         248 non-null    float64\n",
      " 2   SBIN        248 non-null    float64\n",
      " 3   APOLLOHOSP  248 non-null    float64\n",
      " 4   TATAPOWER   248 non-null    float64\n",
      "dtypes: float64(5)\n",
      "memory usage: 9.9 KB\n"
     ]
    }
   ],
   "source": [
    "data_set.info()"
   ]
  },
  {
   "cell_type": "code",
   "execution_count": 9,
   "id": "8fcbb032",
   "metadata": {},
   "outputs": [
    {
     "data": {
      "text/html": [
       "<div>\n",
       "<style scoped>\n",
       "    .dataframe tbody tr th:only-of-type {\n",
       "        vertical-align: middle;\n",
       "    }\n",
       "\n",
       "    .dataframe tbody tr th {\n",
       "        vertical-align: top;\n",
       "    }\n",
       "\n",
       "    .dataframe thead th {\n",
       "        text-align: right;\n",
       "    }\n",
       "</style>\n",
       "<table border=\"1\" class=\"dataframe\">\n",
       "  <thead>\n",
       "    <tr style=\"text-align: right;\">\n",
       "      <th></th>\n",
       "      <th>INFY</th>\n",
       "      <th>ITC</th>\n",
       "      <th>SBIN</th>\n",
       "      <th>APOLLOHOSP</th>\n",
       "      <th>TATAPOWER</th>\n",
       "    </tr>\n",
       "  </thead>\n",
       "  <tbody>\n",
       "    <tr>\n",
       "      <th>0</th>\n",
       "      <td>NaN</td>\n",
       "      <td>NaN</td>\n",
       "      <td>NaN</td>\n",
       "      <td>NaN</td>\n",
       "      <td>NaN</td>\n",
       "    </tr>\n",
       "    <tr>\n",
       "      <th>1</th>\n",
       "      <td>-0.008172</td>\n",
       "      <td>-0.001184</td>\n",
       "      <td>-0.004018</td>\n",
       "      <td>0.003590</td>\n",
       "      <td>-0.014466</td>\n",
       "    </tr>\n",
       "    <tr>\n",
       "      <th>2</th>\n",
       "      <td>0.004319</td>\n",
       "      <td>0.007900</td>\n",
       "      <td>0.016532</td>\n",
       "      <td>0.006784</td>\n",
       "      <td>0.008426</td>\n",
       "    </tr>\n",
       "    <tr>\n",
       "      <th>3</th>\n",
       "      <td>0.032091</td>\n",
       "      <td>0.001960</td>\n",
       "      <td>0.014037</td>\n",
       "      <td>-0.011941</td>\n",
       "      <td>0.025606</td>\n",
       "    </tr>\n",
       "    <tr>\n",
       "      <th>4</th>\n",
       "      <td>-0.011975</td>\n",
       "      <td>-0.011995</td>\n",
       "      <td>0.005728</td>\n",
       "      <td>-0.017757</td>\n",
       "      <td>0.019448</td>\n",
       "    </tr>\n",
       "  </tbody>\n",
       "</table>\n",
       "</div>"
      ],
      "text/plain": [
       "       INFY       ITC      SBIN  APOLLOHOSP  TATAPOWER\n",
       "0       NaN       NaN       NaN         NaN        NaN\n",
       "1 -0.008172 -0.001184 -0.004018    0.003590  -0.014466\n",
       "2  0.004319  0.007900  0.016532    0.006784   0.008426\n",
       "3  0.032091  0.001960  0.014037   -0.011941   0.025606\n",
       "4 -0.011975 -0.011995  0.005728   -0.017757   0.019448"
      ]
     },
     "execution_count": 9,
     "metadata": {},
     "output_type": "execute_result"
    }
   ],
   "source": [
    "data = data_set.pct_change(); data.head()"
   ]
  },
  {
   "cell_type": "code",
   "execution_count": 10,
   "id": "53bdf56a",
   "metadata": {},
   "outputs": [
    {
     "name": "stdout",
     "output_type": "stream",
     "text": [
      "[0.0004101343707659435, 0.0005327747146656292, 0.0015705701464820941, 0.0016225283273757665, 0.003130166909005804]\n",
      "[[0.00041013]\n",
      " [0.00053277]\n",
      " [0.00157057]\n",
      " [0.00162253]\n",
      " [0.00313017]]\n"
     ]
    }
   ],
   "source": [
    "avg_ret = data.mean(axis=0)\n",
    "avg_ret=list(avg_ret);print(avg_ret)\n",
    "avg_ret1=np.array(avg_ret).reshape(5,1);print(avg_ret1)\n",
    "#avg_ret=list(avg_ret);print(avg_ret)"
   ]
  },
  {
   "cell_type": "code",
   "execution_count": 11,
   "id": "1a52183e",
   "metadata": {},
   "outputs": [
    {
     "name": "stdout",
     "output_type": "stream",
     "text": [
      "                INFY       ITC      SBIN  APOLLOHOSP  TATAPOWER\n",
      "INFY        0.000243  0.000009 -0.000009    0.000004  -0.000009\n",
      "ITC         0.000009  0.000125  0.000027    0.000026   0.000024\n",
      "SBIN       -0.000009  0.000027  0.000164    0.000029   0.000092\n",
      "APOLLOHOSP  0.000004  0.000026  0.000029    0.000194   0.000021\n",
      "TATAPOWER  -0.000009  0.000024  0.000092    0.000021   0.000359\n"
     ]
    }
   ],
   "source": [
    "cov=data.cov();print(cov)"
   ]
  },
  {
   "cell_type": "code",
   "execution_count": 12,
   "id": "2c8549fd",
   "metadata": {},
   "outputs": [
    {
     "data": {
      "text/plain": [
       "array([[ 2.43282407e-04,  8.75135249e-06, -9.31341696e-06,\n",
       "         3.54458510e-06, -8.75446727e-06],\n",
       "       [ 8.75135249e-06,  1.25013427e-04,  2.71963247e-05,\n",
       "         2.60363644e-05,  2.38036342e-05],\n",
       "       [-9.31341696e-06,  2.71963247e-05,  1.63855915e-04,\n",
       "         2.86030002e-05,  9.15932350e-05],\n",
       "       [ 3.54458510e-06,  2.60363644e-05,  2.86030002e-05,\n",
       "         1.94151187e-04,  2.06796423e-05],\n",
       "       [-8.75446727e-06,  2.38036342e-05,  9.15932350e-05,\n",
       "         2.06796423e-05,  3.58811678e-04]])"
      ]
     },
     "execution_count": 12,
     "metadata": {},
     "output_type": "execute_result"
    }
   ],
   "source": [
    "cov=np.array(cov).reshape(5,5);cov\n",
    "#cov1=cov*252;cov1"
   ]
  },
  {
   "cell_type": "code",
   "execution_count": 13,
   "id": "9271365c",
   "metadata": {},
   "outputs": [],
   "source": [
    "def portfolio_ret(avg_ret,cov):\n",
    "    wt=np.random.normal(5,size=(5,1))\n",
    "    wt=wt/np.sum(wt)\n",
    "    portfolio_ret = np.transpose(avg_ret)@wt\n",
    "    portfolio_vol=np.transpose(wt)@cov@wt\n",
    "    return portfolio_ret, portfolio_vol"
   ]
  },
  {
   "cell_type": "code",
   "execution_count": 14,
   "id": "cd1da24a",
   "metadata": {},
   "outputs": [],
   "source": [
    "def repeat(alg,avg_ret,cov,times):\n",
    "    DV=[]\n",
    "    for i in range(times):\n",
    "        output=alg(avg_ret,cov)\n",
    "        DV.append(output)\n",
    "    return DV"
   ]
  },
  {
   "cell_type": "code",
   "execution_count": 15,
   "id": "fc194682",
   "metadata": {},
   "outputs": [],
   "source": [
    "Pr=repeat(portfolio_ret,avg_ret1,cov,10000)"
   ]
  },
  {
   "cell_type": "code",
   "execution_count": 16,
   "id": "390e9bc3",
   "metadata": {},
   "outputs": [
    {
     "data": {
      "text/html": [
       "<div>\n",
       "<style scoped>\n",
       "    .dataframe tbody tr th:only-of-type {\n",
       "        vertical-align: middle;\n",
       "    }\n",
       "\n",
       "    .dataframe tbody tr th {\n",
       "        vertical-align: top;\n",
       "    }\n",
       "\n",
       "    .dataframe thead th {\n",
       "        text-align: right;\n",
       "    }\n",
       "</style>\n",
       "<table border=\"1\" class=\"dataframe\">\n",
       "  <thead>\n",
       "    <tr style=\"text-align: right;\">\n",
       "      <th></th>\n",
       "      <th>returns</th>\n",
       "      <th>volatility</th>\n",
       "    </tr>\n",
       "  </thead>\n",
       "  <tbody>\n",
       "    <tr>\n",
       "      <th>0</th>\n",
       "      <td>[[0.0014628012506201086]]</td>\n",
       "      <td>[[6.0233245337949e-05]]</td>\n",
       "    </tr>\n",
       "    <tr>\n",
       "      <th>1</th>\n",
       "      <td>[[0.0017195083603965997]]</td>\n",
       "      <td>[[7.827267709962464e-05]]</td>\n",
       "    </tr>\n",
       "    <tr>\n",
       "      <th>2</th>\n",
       "      <td>[[0.001421735002651005]]</td>\n",
       "      <td>[[5.960354523671727e-05]]</td>\n",
       "    </tr>\n",
       "    <tr>\n",
       "      <th>3</th>\n",
       "      <td>[[0.0013634185634126697]]</td>\n",
       "      <td>[[5.6828036639390325e-05]]</td>\n",
       "    </tr>\n",
       "    <tr>\n",
       "      <th>4</th>\n",
       "      <td>[[0.0014160180035549842]]</td>\n",
       "      <td>[[6.248764971922619e-05]]</td>\n",
       "    </tr>\n",
       "  </tbody>\n",
       "</table>\n",
       "</div>"
      ],
      "text/plain": [
       "                     returns                  volatility\n",
       "0  [[0.0014628012506201086]]     [[6.0233245337949e-05]]\n",
       "1  [[0.0017195083603965997]]   [[7.827267709962464e-05]]\n",
       "2   [[0.001421735002651005]]   [[5.960354523671727e-05]]\n",
       "3  [[0.0013634185634126697]]  [[5.6828036639390325e-05]]\n",
       "4  [[0.0014160180035549842]]   [[6.248764971922619e-05]]"
      ]
     },
     "execution_count": 16,
     "metadata": {},
     "output_type": "execute_result"
    }
   ],
   "source": [
    "df=pd.DataFrame(Pr,columns=['returns','volatility']);df.head()"
   ]
  },
  {
   "cell_type": "code",
   "execution_count": 17,
   "id": "5ea0ad60",
   "metadata": {},
   "outputs": [],
   "source": [
    "#for min_var and Max_sharp\n",
    "\n",
    "m = (avg_ret1-0.0001)#  vector of excess returns\n",
    "cov_inv =np.linalg.inv(cov)\n",
    "ones=[1,1,1,1,1]\n",
    "ones=np.array(ones).reshape(1,5)\n",
    "\n",
    "min_var_wt = (cov_inv@np.transpose(ones))/(ones@cov_inv@np.transpose(ones))\n",
    "max_sharp_wta = (cov_inv@m)/(ones@cov_inv@m)\n",
    "\n",
    "min_var_ret = np.transpose(avg_ret)@min_var_wt\n",
    "min_var_vol=np.transpose(min_var_wt)@cov@min_var_wt\n",
    "\n",
    "max_sharp_reta= np.transpose(avg_ret1)@max_sharp_wta\n",
    "max_sharp_vola = np.transpose(max_sharp_wta)@cov@max_sharp_wta"
   ]
  },
  {
   "cell_type": "markdown",
   "id": "f00433d6",
   "metadata": {},
   "source": [
    "pip install PyPortfolioOpt"
   ]
  },
  {
   "cell_type": "code",
   "execution_count": 18,
   "id": "9350bb61",
   "metadata": {},
   "outputs": [
    {
     "data": {
      "text/html": [
       "<div>\n",
       "<style scoped>\n",
       "    .dataframe tbody tr th:only-of-type {\n",
       "        vertical-align: middle;\n",
       "    }\n",
       "\n",
       "    .dataframe tbody tr th {\n",
       "        vertical-align: top;\n",
       "    }\n",
       "\n",
       "    .dataframe thead th {\n",
       "        text-align: right;\n",
       "    }\n",
       "</style>\n",
       "<table border=\"1\" class=\"dataframe\">\n",
       "  <thead>\n",
       "    <tr style=\"text-align: right;\">\n",
       "      <th></th>\n",
       "      <th>INFY</th>\n",
       "      <th>ITC</th>\n",
       "      <th>SBIN</th>\n",
       "      <th>APOLLOHOSP</th>\n",
       "      <th>TATAPOWER</th>\n",
       "    </tr>\n",
       "  </thead>\n",
       "  <tbody>\n",
       "    <tr>\n",
       "      <th>0</th>\n",
       "      <td>1388.95</td>\n",
       "      <td>380.20</td>\n",
       "      <td>510.15</td>\n",
       "      <td>4318.10</td>\n",
       "      <td>186.65</td>\n",
       "    </tr>\n",
       "    <tr>\n",
       "      <th>1</th>\n",
       "      <td>1377.60</td>\n",
       "      <td>379.75</td>\n",
       "      <td>508.10</td>\n",
       "      <td>4333.60</td>\n",
       "      <td>183.95</td>\n",
       "    </tr>\n",
       "    <tr>\n",
       "      <th>2</th>\n",
       "      <td>1383.55</td>\n",
       "      <td>382.75</td>\n",
       "      <td>516.50</td>\n",
       "      <td>4363.00</td>\n",
       "      <td>185.50</td>\n",
       "    </tr>\n",
       "    <tr>\n",
       "      <th>3</th>\n",
       "      <td>1427.95</td>\n",
       "      <td>383.50</td>\n",
       "      <td>523.75</td>\n",
       "      <td>4310.90</td>\n",
       "      <td>190.25</td>\n",
       "    </tr>\n",
       "    <tr>\n",
       "      <th>4</th>\n",
       "      <td>1410.85</td>\n",
       "      <td>378.90</td>\n",
       "      <td>526.75</td>\n",
       "      <td>4234.35</td>\n",
       "      <td>193.95</td>\n",
       "    </tr>\n",
       "    <tr>\n",
       "      <th>...</th>\n",
       "      <td>...</td>\n",
       "      <td>...</td>\n",
       "      <td>...</td>\n",
       "      <td>...</td>\n",
       "      <td>...</td>\n",
       "    </tr>\n",
       "    <tr>\n",
       "      <th>246</th>\n",
       "      <td>1561.45</td>\n",
       "      <td>428.60</td>\n",
       "      <td>746.70</td>\n",
       "      <td>6375.90</td>\n",
       "      <td>390.70</td>\n",
       "    </tr>\n",
       "    <tr>\n",
       "      <th>247</th>\n",
       "      <td>1554.95</td>\n",
       "      <td>427.65</td>\n",
       "      <td>740.05</td>\n",
       "      <td>6322.45</td>\n",
       "      <td>390.10</td>\n",
       "    </tr>\n",
       "    <tr>\n",
       "      <th>248</th>\n",
       "      <td>1554.70</td>\n",
       "      <td>NaN</td>\n",
       "      <td>NaN</td>\n",
       "      <td>NaN</td>\n",
       "      <td>NaN</td>\n",
       "    </tr>\n",
       "    <tr>\n",
       "      <th>249</th>\n",
       "      <td>1508.85</td>\n",
       "      <td>NaN</td>\n",
       "      <td>NaN</td>\n",
       "      <td>NaN</td>\n",
       "      <td>NaN</td>\n",
       "    </tr>\n",
       "    <tr>\n",
       "      <th>250</th>\n",
       "      <td>1492.65</td>\n",
       "      <td>NaN</td>\n",
       "      <td>NaN</td>\n",
       "      <td>NaN</td>\n",
       "      <td>NaN</td>\n",
       "    </tr>\n",
       "  </tbody>\n",
       "</table>\n",
       "<p>251 rows × 5 columns</p>\n",
       "</div>"
      ],
      "text/plain": [
       "        INFY     ITC    SBIN  APOLLOHOSP  TATAPOWER\n",
       "0    1388.95  380.20  510.15     4318.10     186.65\n",
       "1    1377.60  379.75  508.10     4333.60     183.95\n",
       "2    1383.55  382.75  516.50     4363.00     185.50\n",
       "3    1427.95  383.50  523.75     4310.90     190.25\n",
       "4    1410.85  378.90  526.75     4234.35     193.95\n",
       "..       ...     ...     ...         ...        ...\n",
       "246  1561.45  428.60  746.70     6375.90     390.70\n",
       "247  1554.95  427.65  740.05     6322.45     390.10\n",
       "248  1554.70     NaN     NaN         NaN        NaN\n",
       "249  1508.85     NaN     NaN         NaN        NaN\n",
       "250  1492.65     NaN     NaN         NaN        NaN\n",
       "\n",
       "[251 rows x 5 columns]"
      ]
     },
     "execution_count": 18,
     "metadata": {},
     "output_type": "execute_result"
    }
   ],
   "source": [
    "data_set"
   ]
  },
  {
   "cell_type": "code",
   "execution_count": 19,
   "id": "f87f30d9",
   "metadata": {},
   "outputs": [
    {
     "name": "stdout",
     "output_type": "stream",
     "text": [
      "(CVXPY) Apr 01 08:07:50 PM: Encountered unexpected exception importing solver CVXOPT:\n",
      "ImportError('DLL load failed while importing base: The specified module could not be found.')\n",
      "(CVXPY) Apr 01 08:07:50 PM: Encountered unexpected exception importing solver GLPK:\n",
      "ImportError('DLL load failed while importing base: The specified module could not be found.')\n",
      "(CVXPY) Apr 01 08:07:50 PM: Encountered unexpected exception importing solver GLPK_MI:\n",
      "ImportError('DLL load failed while importing base: The specified module could not be found.')\n"
     ]
    }
   ],
   "source": [
    "from pypfopt.expected_returns import mean_historical_return\n",
    "from pypfopt.risk_models import CovarianceShrinkage\n",
    "\n",
    "Mu = mean_historical_return(data_set)\n",
    "S = CovarianceShrinkage(data_set).ledoit_wolf()"
   ]
  },
  {
   "cell_type": "code",
   "execution_count": 20,
   "id": "57d62e14",
   "metadata": {},
   "outputs": [
    {
     "name": "stdout",
     "output_type": "stream",
     "text": [
      "('max sharpe weight:', OrderedDict([('INFY', 0.05261), ('ITC', 0.0), ('SBIN', 0.16545), ('APOLLOHOSP', 0.30276), ('TATAPOWER', 0.47918)]))\n",
      "Expected annual return: 74.9%\n",
      "Annual volatility: 17.1%\n",
      "Sharpe Ratio: 4.26\n",
      "min var: OrderedDict([('INFY', 0.2187128107117998), ('ITC', 0.2790940458117326), ('SBIN', 0.2098826241627007), ('APOLLOHOSP', 0.1997888551290231), ('TATAPOWER', 0.0925216641847438)])\n"
     ]
    }
   ],
   "source": [
    "from pypfopt.efficient_frontier import EfficientFrontier\n",
    "#max sharp\n",
    "ef = EfficientFrontier(Mu, S)\n",
    "ef2= EfficientFrontier(Mu, S)\n",
    "weights = ef.max_sharpe()\n",
    "weights2=ef2.min_volatility()\n",
    "\n",
    "max_sharp_wt = ef.clean_weights()\n",
    "#min_var_wt = ef.clean_weights()\n",
    "print(('max sharpe weight:',max_sharp_wt))\n",
    "ef.portfolio_performance(verbose=True)\n",
    "print('min var:',(weights2))"
   ]
  },
  {
   "cell_type": "code",
   "execution_count": 21,
   "id": "2df261cd",
   "metadata": {},
   "outputs": [
    {
     "name": "stdout",
     "output_type": "stream",
     "text": [
      "Expected annual return: 74.9%\n",
      "Annual volatility: 17.1%\n",
      "Sharpe Ratio: 4.26\n"
     ]
    },
    {
     "data": {
      "text/plain": [
       "(0.7493545668388295, 0.17125475259345088, 4.258886575663544)"
      ]
     },
     "execution_count": 21,
     "metadata": {},
     "output_type": "execute_result"
    }
   ],
   "source": [
    "ef.portfolio_performance(verbose=True)"
   ]
  },
  {
   "cell_type": "code",
   "execution_count": 22,
   "id": "cde59af0",
   "metadata": {},
   "outputs": [
    {
     "name": "stdout",
     "output_type": "stream",
     "text": [
      "discrete allocation: {'TATAPOWER': 12, 'SBIN': 2, 'INFY': 1}\n",
      "Funds remaining: Rs.2346.05\n",
      "INFY          1492.65\n",
      "ITC            427.65\n",
      "SBIN           740.05\n",
      "APOLLOHOSP    6322.45\n",
      "TATAPOWER      390.10\n",
      "Name: 250, dtype: float64\n"
     ]
    }
   ],
   "source": [
    "from pypfopt.discrete_allocation import DiscreteAllocation, get_latest_prices\n",
    "latest_prices = get_latest_prices(data_set)\n",
    "da = DiscreteAllocation(weights, latest_prices, total_portfolio_value=10000)\n",
    "\n",
    "allocation, leftover = da.greedy_portfolio()\n",
    "print(\"discrete allocation:\", allocation)\n",
    "print(\"Funds remaining: Rs.{:.2f}\".format(leftover))\n",
    "print(latest_prices) #close price"
   ]
  },
  {
   "cell_type": "code",
   "execution_count": 23,
   "id": "f5d1446b",
   "metadata": {},
   "outputs": [
    {
     "name": "stdout",
     "output_type": "stream",
     "text": [
      "OrderedDict([('INFY', 0.05261), ('ITC', 0.0), ('SBIN', 0.16545), ('APOLLOHOSP', 0.30276), ('TATAPOWER', 0.47918)])\n",
      "[0.05261, 0.0, 0.16545, 0.30276, 0.47918]\n",
      "[[0.05261]\n",
      " [0.     ]\n",
      " [0.16545]\n",
      " [0.30276]\n",
      " [0.47918]]\n"
     ]
    }
   ],
   "source": [
    "print(max_sharp_wt)\n",
    "values = list(max_sharp_wt.values());print(values)\n",
    "max_sharp_wt = np.array(values).reshape(5,1);print(max_sharp_wt)\n",
    "\n",
    "#valb = list(weight2);print(valb)\n",
    "#min_var_wt1 = np.array(weights2).reshape(5,1);print(min_var_wt)"
   ]
  },
  {
   "cell_type": "code",
   "execution_count": 24,
   "id": "2c58cff6",
   "metadata": {},
   "outputs": [
    {
     "name": "stdout",
     "output_type": "stream",
     "text": [
      "OrderedDict([('INFY', 0.2187128107117998), ('ITC', 0.2790940458117326), ('SBIN', 0.2098826241627007), ('APOLLOHOSP', 0.1997888551290231), ('TATAPOWER', 0.0925216641847438)])\n",
      "[0.2187128107117998, 0.2790940458117326, 0.2098826241627007, 0.1997888551290231, 0.0925216641847438]\n",
      "[[0.21871281]\n",
      " [0.27909405]\n",
      " [0.20988262]\n",
      " [0.19978886]\n",
      " [0.09252166]]\n"
     ]
    }
   ],
   "source": [
    "print(weights2)\n",
    "values_b = list(weights2.values());print(values_b)\n",
    "min_var_wt1 = np.array(values_b).reshape(5,1);print(min_var_wt1)"
   ]
  },
  {
   "cell_type": "code",
   "execution_count": 25,
   "id": "6de1db51",
   "metadata": {},
   "outputs": [
    {
     "name": "stdout",
     "output_type": "stream",
     "text": [
      "INFY          0.075280\n",
      "ITC           0.125862\n",
      "SBIN          0.454975\n",
      "APOLLOHOSP    0.468647\n",
      "TATAPOWER     1.102370\n",
      "dtype: float64\n"
     ]
    },
    {
     "data": {
      "text/plain": [
       "array([[0.07527994],\n",
       "       [0.12586152],\n",
       "       [0.45497549],\n",
       "       [0.46864709],\n",
       "       [1.10236995]])"
      ]
     },
     "execution_count": 25,
     "metadata": {},
     "output_type": "execute_result"
    }
   ],
   "source": [
    "print(Mu)\n",
    "Muu = np.array(Mu).reshape(5,1);Muu"
   ]
  },
  {
   "cell_type": "code",
   "execution_count": 26,
   "id": "54b04af7",
   "metadata": {},
   "outputs": [
    {
     "name": "stdout",
     "output_type": "stream",
     "text": [
      "                INFY       ITC      SBIN  APOLLOHOSP  TATAPOWER\n",
      "INFY        0.059617  0.001715 -0.001825    0.000695  -0.001716\n",
      "ITC         0.001715  0.036439  0.005330    0.005103   0.004665\n",
      "SBIN       -0.001825  0.005330  0.044051    0.005606   0.017951\n",
      "APOLLOHOSP  0.000695  0.005103  0.005606    0.049989   0.004053\n",
      "TATAPOWER  -0.001716  0.004665  0.017951    0.004053   0.082259\n"
     ]
    },
    {
     "data": {
      "text/plain": [
       "array([[ 0.0596174 ,  0.00171511, -0.00182526,  0.00069467, -0.00171572],\n",
       "       [ 0.00171511,  0.03643883,  0.00532999,  0.00510265,  0.00466508],\n",
       "       [-0.00182526,  0.00532999,  0.04405125,  0.00560567,  0.01795061],\n",
       "       [ 0.00069467,  0.00510265,  0.00560567,  0.04998857,  0.00405283],\n",
       "       [-0.00171572,  0.00466508,  0.01795061,  0.00405283,  0.08225904]])"
      ]
     },
     "execution_count": 26,
     "metadata": {},
     "output_type": "execute_result"
    }
   ],
   "source": [
    "print(S)\n",
    "covv = np.array(S).reshape(5,5);covv"
   ]
  },
  {
   "cell_type": "code",
   "execution_count": 27,
   "id": "c5a78d0b",
   "metadata": {},
   "outputs": [],
   "source": [
    "#min_var_wt = (cov_inv@np.transpose(ones))/(ones@cov_inv@np.transpose(ones))\n",
    "\n",
    "max_sharp_ret=np.transpose(Muu)@max_sharp_wt\n",
    "max_sharp_vol = np.transpose(max_sharp_wt)@covv@max_sharp_wt\n",
    "\n",
    "min_var_ret1 = np.transpose(Muu)@min_var_wt1\n",
    "min_var_vol1=np.transpose(min_var_wt1)@covv@min_var_wt1"
   ]
  },
  {
   "cell_type": "code",
   "execution_count": 28,
   "id": "c9327f25",
   "metadata": {},
   "outputs": [
    {
     "data": {
      "text/plain": [
       "<matplotlib.legend.Legend at 0x11a44535640>"
      ]
     },
     "execution_count": 28,
     "metadata": {},
     "output_type": "execute_result"
    },
    {
     "data": {
      "image/png": "[encoded data removed]",
      "text/plain": [
       "<Figure size 720x648 with 1 Axes>"
      ]
     },
     "metadata": {
      "needs_background": "light"
     },
     "output_type": "display_data"
    }
   ],
   "source": [
    "plt.figure(figsize=(10,9))\n",
    "plt.scatter(df['volatility'],df['returns'], color='red',label='Portfolios')\n",
    "plt.scatter(min_var_vol,min_var_ret,marker='*',color='green',s=200,label='Minimum variance portfolio')\n",
    "plt.scatter(max_sharp_vola,max_sharp_reta,marker='*',color='yellow',s=200,label='Max sharp portfolio')\n",
    "\n",
    "plt.legend(loc='upper left')"
   ]
  },
  {
   "cell_type": "code",
   "execution_count": 29,
   "id": "bbe5dfed",
   "metadata": {},
   "outputs": [
    {
     "data": {
      "text/html": [
       "<div>\n",
       "<style scoped>\n",
       "    .dataframe tbody tr th:only-of-type {\n",
       "        vertical-align: middle;\n",
       "    }\n",
       "\n",
       "    .dataframe tbody tr th {\n",
       "        vertical-align: top;\n",
       "    }\n",
       "\n",
       "    .dataframe thead th {\n",
       "        text-align: right;\n",
       "    }\n",
       "</style>\n",
       "<table border=\"1\" class=\"dataframe\">\n",
       "  <thead>\n",
       "    <tr style=\"text-align: right;\">\n",
       "      <th></th>\n",
       "      <th>returns</th>\n",
       "      <th>volatility</th>\n",
       "    </tr>\n",
       "  </thead>\n",
       "  <tbody>\n",
       "    <tr>\n",
       "      <th>0</th>\n",
       "      <td>[[0.44456213086581586]]</td>\n",
       "      <td>[[0.014490045540907302]]</td>\n",
       "    </tr>\n",
       "    <tr>\n",
       "      <th>1</th>\n",
       "      <td>[[0.4220203147541307]]</td>\n",
       "      <td>[[0.014134265989132824]]</td>\n",
       "    </tr>\n",
       "    <tr>\n",
       "      <th>2</th>\n",
       "      <td>[[0.43629313532392056]]</td>\n",
       "      <td>[[0.014884389695026399]]</td>\n",
       "    </tr>\n",
       "    <tr>\n",
       "      <th>3</th>\n",
       "      <td>[[0.46462075190736596]]</td>\n",
       "      <td>[[0.014630030402824571]]</td>\n",
       "    </tr>\n",
       "    <tr>\n",
       "      <th>4</th>\n",
       "      <td>[[0.44452539600016205]]</td>\n",
       "      <td>[[0.014298698672465714]]</td>\n",
       "    </tr>\n",
       "  </tbody>\n",
       "</table>\n",
       "</div>"
      ],
      "text/plain": [
       "                   returns                volatility\n",
       "0  [[0.44456213086581586]]  [[0.014490045540907302]]\n",
       "1   [[0.4220203147541307]]  [[0.014134265989132824]]\n",
       "2  [[0.43629313532392056]]  [[0.014884389695026399]]\n",
       "3  [[0.46462075190736596]]  [[0.014630030402824571]]\n",
       "4  [[0.44452539600016205]]  [[0.014298698672465714]]"
      ]
     },
     "execution_count": 29,
     "metadata": {},
     "output_type": "execute_result"
    }
   ],
   "source": [
    "#method 2\n",
    "Pr=repeat(portfolio_ret,Muu,covv,10000)\n",
    "df1=pd.DataFrame(Pr,columns=['returns','volatility']);df1.head()"
   ]
  },
  {
   "cell_type": "code",
   "execution_count": 31,
   "id": "87a9149a",
   "metadata": {},
   "outputs": [
    {
     "data": {
      "text/plain": [
       "<matplotlib.legend.Legend at 0x11a449a68b0>"
      ]
     },
     "execution_count": 31,
     "metadata": {},
     "output_type": "execute_result"
    },
    {
     "data": {
      "image/png": "[encoded data removed]",
      "text/plain": [
       "<Figure size 720x720 with 1 Axes>"
      ]
     },
     "metadata": {
      "needs_background": "light"
     },
     "output_type": "display_data"
    }
   ],
   "source": [
    "plt.figure(figsize=(10,10))\n",
    "plt.scatter(df1['volatility'],df1['returns'], color='red',label='Portfolios')\n",
    "plt.scatter(min_var_vol1,min_var_ret1,marker='*',color='green',s=200,label='Minimum variance portfolio')\n",
    "plt.scatter(max_sharp_vol,max_sharp_ret,marker='*',color='yellow',s=200,label='Max sharp portfolio')\n",
    "\n",
    "plt.legend(loc='upper left')"
   ]
  },
  {
   "cell_type": "code",
   "execution_count": 32,
   "id": "25aa2a77",
   "metadata": {},
   "outputs": [
    {
     "name": "stdout",
     "output_type": "stream",
     "text": [
      "min_var_returns: [[0.3427069]]\n",
      "min_var_volatility: [[0.01311472]]\n"
     ]
    }
   ],
   "source": [
    "\n",
    "print('min_var_returns:',min_var_ret1)\n",
    "print('min_var_volatility:',min_var_vol1)"
   ]
  },
  {
   "cell_type": "code",
   "execution_count": null,
   "id": "cb755ede",
   "metadata": {},
   "outputs": [],
   "source": []
  },
  {
   "cell_type": "markdown",
   "id": "1aaa9eb9",
   "metadata": {},
   "source": [
    "# optimizer from libraries"
   ]
  },
  {
   "cell_type": "code",
   "execution_count": 312,
   "id": "5c5699b5",
   "metadata": {},
   "outputs": [
    {
     "data": {
      "image/png": "[encoded data removed]",
      "text/plain": [
       "<Figure size 720x432 with 2 Axes>"
      ]
     },
     "metadata": {
      "needs_background": "light"
     },
     "output_type": "display_data"
    }
   ],
   "source": [
    "import numpy as np\n",
    "import pandas as pd\n",
    "import matplotlib.pyplot as plt\n",
    "from scipy.optimize import minimize\n",
    "\n",
    "#declare\n",
    "np.random.seed(42)\n",
    "num_assets = 5\n",
    "num_portfolios = 1000\n",
    "\n",
    "mean_returns = avg_ret # mean returns of each asset\n",
    "cov_matrix = cov  # covariance matrix\n",
    "\n",
    "# portfolio variance function\n",
    "def portfolio_volatility(weights, mean_returns, cov_matrix):\n",
    "    volatility = np.sqrt(np.dot(weights.T, np.dot(cov_matrix, weights)))\n",
    "    return volatility\n",
    "\n",
    "\n",
    "def random_portfolios(num_portfolios, mean_returns, cov_matrix): #generate random portfolios\n",
    "    results = np.zeros((3,num_portfolios))\n",
    "    weights_record = []\n",
    "    for i in range(num_portfolios):\n",
    "        weights = np.random.random(num_assets)\n",
    "        weights /= np.sum(weights)\n",
    "        weights_record.append(weights)\n",
    "        portfolio_std_dev = portfolio_volatility(weights, mean_returns, cov_matrix)\n",
    "        results[0,i] = np.sum(weights * mean_returns)  # portfolio return\n",
    "        results[1,i] = portfolio_std_dev\n",
    "        results[2,i] = (results[0,i] - 0.07) / results[1,i] #0.0x is risk free rate\n",
    "    return results, weights_record\n",
    "\n",
    "# func to min var\n",
    "def min_variance_portfolio(mean_returns, cov_matrix):\n",
    "    num_assets = len(mean_returns)\n",
    "    args = (mean_returns, cov_matrix)\n",
    "\n",
    "    # Constraints: sum of weights equals 1\n",
    "    constraints = ({'type': 'eq', 'fun': lambda x: np.sum(x) - 1})\n",
    "\n",
    "    # bounds for each weight where weight is less than or equal to 1\n",
    "    bounds = tuple((0, 1) for asset in range(num_assets))\n",
    "\n",
    "    # guess random weight\n",
    "    initial_guess = num_assets * [1. / num_assets]\n",
    "\n",
    "    # Minvar portfolio\n",
    "    min_variance = minimize(portfolio_volatility, initial_guess, args=args,\n",
    "                            method='SLSQP', bounds=bounds, constraints=constraints)\n",
    "\n",
    "    return min_variance.x\n",
    "\n",
    "# max sharpe func\n",
    "def max_sharpe_ratio_portfolio(mean_returns, cov_matrix, risk_free_rate):\n",
    "    num_assets = len(mean_returns)\n",
    "    args = (mean_returns, cov_matrix, risk_free_rate)  # Added risk_free_rate parameter\n",
    "\n",
    "    #sum of weights is 1\n",
    "    constraints = ({'type': 'eq', 'fun': lambda x: np.sum(x) - 1})\n",
    "\n",
    "    # bounds for weight\n",
    "    bounds = tuple((0, 1) for asset in range(num_assets))\n",
    "\n",
    "  #guess \n",
    "    initial_guess = num_assets * [1. / num_assets]\n",
    "\n",
    "    # minimize negative sharpe.\n",
    "    def negative_sharpe_ratio(weights, mean_returns, cov_matrix, risk_free_rate):\n",
    "        portfolio_return = np.sum(weights * mean_returns)\n",
    "        portfolio_std_dev = np.sqrt(np.dot(weights.T, np.dot(cov_matrix, weights)))\n",
    "        sharpe_ratio = (portfolio_return - risk_free_rate) / portfolio_std_dev\n",
    "        return -sharpe_ratio\n",
    "\n",
    "    max_sharpe = minimize(negative_sharpe_ratio, initial_guess, args=args,\n",
    "                          method='SLSQP', bounds=bounds, constraints=constraints,\n",
    "                          options={'disp': False})\n",
    "\n",
    "    return max_sharpe.x\n",
    "\n",
    "#random portfolios\n",
    "results, weights = random_portfolios(num_portfolios, mean_returns, cov_matrix)\n",
    "\n",
    "# frontier\n",
    "plt.figure(figsize=(10, 6))\n",
    "plt.scatter(results[1,:], results[0,:], c=results[2,:], cmap='viridis', marker='o', s=10)\n",
    "plt.title('Efficient Frontier')\n",
    "plt.xlabel('Volatility')\n",
    "plt.ylabel('Return')\n",
    "plt.colorbar(label='Sharpe Ratio')\n",
    "\n",
    "#minimum variance portfolio\n",
    "min_variance_weights = min_variance_portfolio(mean_returns, cov_matrix)\n",
    "min_variance_return = np.sum(min_variance_weights * mean_returns)\n",
    "min_variance_volatility = portfolio_volatility(min_variance_weights, mean_returns, cov_matrix)\n",
    "plt.scatter(min_variance_volatility, min_variance_return, marker='*', color='r', s=200, label='minimum variance portfolio')\n",
    "\n",
    "# plot sharpe ratio portfolio\n",
    "risk_free_rate = 0.07  # assume some rf\n",
    "max_sharpe_weights = max_sharpe_ratio_portfolio(mean_returns, cov_matrix, risk_free_rate)\n",
    "max_sharpe_return = np.sum(max_sharpe_weights * mean_returns)\n",
    "max_sharpe_volatility = portfolio_volatility(max_sharpe_weights, mean_returns, cov_matrix)\n",
    "plt.scatter(max_sharpe_volatility, max_sharpe_return, marker='*', color='g', s=200, label='max_sharpe ratio portfolio')\n",
    "\n",
    "\n",
    "plt.legend()\n",
    "plt.show()\n"
   ]
  },
  {
   "cell_type": "code",
   "execution_count": 291,
   "id": "09479c88",
   "metadata": {},
   "outputs": [
    {
     "name": "stdout",
     "output_type": "stream",
     "text": [
      "minimum variance portfolio weights: [0.21122161 0.30887243 0.22020206 0.1968459  0.062858  ]\n"
     ]
    }
   ],
   "source": [
    "\n",
    "print('minimum variance portfolio weights:',min_variance_weights)"
   ]
  },
  {
   "cell_type": "code",
   "execution_count": 292,
   "id": "0a87bf94",
   "metadata": {},
   "outputs": [
    {
     "name": "stdout",
     "output_type": "stream",
     "text": [
      "minimum var portfolio return: 0.11131755252557206\n",
      "minimum var portfolio volatility: 0.730212501889169\n"
     ]
    }
   ],
   "source": [
    "print('minimum var portfolio return:',min_variance_return*100)\n"
   ]
  },
  {
   "cell_type": "markdown",
   "id": "701d3339",
   "metadata": {},
   "source": [
    "# Recheck"
   ]
  },
  {
   "cell_type": "code",
   "execution_count": 86,
   "id": "05919d4b",
   "metadata": {},
   "outputs": [
    {
     "name": "stdout",
     "output_type": "stream",
     "text": [
      "[[0.00041013]\n",
      " [0.00053277]\n",
      " [0.00157057]\n",
      " [0.00162253]\n",
      " [0.00313017]]\n",
      "[[ 2.43282407e-04  8.75135249e-06 -9.31341696e-06  3.54458510e-06\n",
      "  -8.75446727e-06]\n",
      " [ 8.75135249e-06  1.25013427e-04  2.71963247e-05  2.60363644e-05\n",
      "   2.38036342e-05]\n",
      " [-9.31341696e-06  2.71963247e-05  1.63855915e-04  2.86030002e-05\n",
      "   9.15932350e-05]\n",
      " [ 3.54458510e-06  2.60363644e-05  2.86030002e-05  1.94151187e-04\n",
      "   2.06796423e-05]\n",
      " [-8.75446727e-06  2.38036342e-05  9.15932350e-05  2.06796423e-05\n",
      "   3.58811678e-04]]\n"
     ]
    }
   ],
   "source": [
    "print(avg_ret1)\n",
    "print(cov)"
   ]
  },
  {
   "cell_type": "code",
   "execution_count": 87,
   "id": "206646b4",
   "metadata": {},
   "outputs": [
    {
     "name": "stdout",
     "output_type": "stream",
     "text": [
      "[[-0.06958987]\n",
      " [-0.06946723]\n",
      " [-0.06842943]\n",
      " [-0.06837747]\n",
      " [-0.06686983]]\n"
     ]
    }
   ],
   "source": [
    "m = (avg_ret1-0.07);print(m)"
   ]
  },
  {
   "cell_type": "code",
   "execution_count": 88,
   "id": "e91ccde7",
   "metadata": {},
   "outputs": [
    {
     "name": "stdout",
     "output_type": "stream",
     "text": [
      "[[ 4136.48501449  -344.26855601   272.78193885   -75.76932294\n",
      "     58.49717005]\n",
      " [ -344.26855601  8511.02673354 -1140.4114149   -942.82493333\n",
      "   -227.57342377]\n",
      " [  272.78193885 -1140.4114149   7429.7664078   -758.03442815\n",
      "  -1770.58468858]\n",
      " [  -75.76932294  -942.82493333  -758.03442815  5396.17088054\n",
      "    -56.80059934]\n",
      " [   58.49717005  -227.57342377 -1770.58468858   -56.80059934\n",
      "   3258.74951613]]\n"
     ]
    }
   ],
   "source": [
    "cov_inv=np.linalg.inv(cov);print(cov_inv)"
   ]
  },
  {
   "cell_type": "code",
   "execution_count": 89,
   "id": "8a2c5266",
   "metadata": {},
   "outputs": [
    {
     "name": "stdout",
     "output_type": "stream",
     "text": [
      "[[1 1 1 1 1]]\n"
     ]
    }
   ],
   "source": [
    "ones= [1,1,1,1,1]\n",
    "ones=np.array(ones).reshape(1,5);print(ones)"
   ]
  },
  {
   "cell_type": "code",
   "execution_count": 90,
   "id": "4569c0b4",
   "metadata": {},
   "outputs": [],
   "source": [
    "num = cov_inv@m\n",
    "den1 = ones@cov_inv\n",
    "den2=den1@m"
   ]
  },
  {
   "cell_type": "code",
   "execution_count": 91,
   "id": "8b5720e6",
   "metadata": {},
   "outputs": [
    {
     "name": "stdout",
     "output_type": "stream",
     "text": [
      "[[0.21766904]\n",
      " [0.31686928]\n",
      " [0.21504313]\n",
      " [0.18764917]\n",
      " [0.06276938]]\n"
     ]
    }
   ],
   "source": [
    "wt_sharpe=num/den2;print(wt_sharpe)"
   ]
  },
  {
   "cell_type": "code",
   "execution_count": 92,
   "id": "2f0d96f5",
   "metadata": {},
   "outputs": [
    {
     "name": "stdout",
     "output_type": "stream",
     "text": [
      "weights that maximize share is: [[0.21766904]\n",
      " [0.31686928]\n",
      " [0.21504313]\n",
      " [0.18764917]\n",
      " [0.06276938]]\n"
     ]
    }
   ],
   "source": [
    "print('weights that maximize share is:',wt_sharpe)"
   ]
  },
  {
   "cell_type": "code",
   "execution_count": 93,
   "id": "371b241e",
   "metadata": {},
   "outputs": [],
   "source": [
    "sret = np.transpose(avg_ret1)@wt_sharpe\n",
    "svol =np.transpose(wt_sharpe)@cov@wt_sharpe"
   ]
  },
  {
   "cell_type": "code",
   "execution_count": 94,
   "id": "d4eeb1fc",
   "metadata": {},
   "outputs": [
    {
     "name": "stdout",
     "output_type": "stream",
     "text": [
      "max_sharpe returns: [[0.00109678]]\n",
      "max_sharpe volatility: [[5.33096736e-05]]\n"
     ]
    }
   ],
   "source": [
    "print('max_sharpe returns:',sret)\n",
    "print('max_sharpe volatility:',svol)"
   ]
  },
  {
   "cell_type": "code",
   "execution_count": 95,
   "id": "67ad29e4",
   "metadata": {},
   "outputs": [
    {
     "data": {
      "text/plain": [
       "array([[0.21573811],\n",
       "       [0.3121138 ],\n",
       "       [0.21498082],\n",
       "       [0.18988911],\n",
       "       [0.06727817]])"
      ]
     },
     "execution_count": 95,
     "metadata": {},
     "output_type": "execute_result"
    }
   ],
   "source": [
    "#min var:\n",
    "min_var_wt = (cov_inv@np.transpose(ones))/(ones@cov_inv@np.transpose(ones));min_var_wt"
   ]
  },
  {
   "cell_type": "code",
   "execution_count": 96,
   "id": "cff7b438",
   "metadata": {},
   "outputs": [],
   "source": [
    "minvar_ret=np.transpose(avg_ret1)@min_var_wt\n",
    "minvar_vol = np.transpose(min_var_wt)@cov@min_var_wt"
   ]
  },
  {
   "cell_type": "code",
   "execution_count": 97,
   "id": "d2a26f14",
   "metadata": {},
   "outputs": [
    {
     "name": "stdout",
     "output_type": "stream",
     "text": [
      "min var returns: [[0.0011111]]\n",
      "min var volatility: [[5.32985911e-05]]\n"
     ]
    }
   ],
   "source": [
    "print('min var returns:',minvar_ret)\n",
    "print('min var volatility:',minvar_vol)"
   ]
  },
  {
   "cell_type": "code",
   "execution_count": null,
   "id": "1deb79fd",
   "metadata": {},
   "outputs": [],
   "source": []
  }
 ],
 "metadata": {
  "kernelspec": {
   "display_name": "Python 3 (ipykernel)",
   "language": "python",
   "name": "python3"
  },
  "language_info": {
   "codemirror_mode": {
    "name": "ipython",
    "version": 3
   },
   "file_extension": ".py",
   "mimetype": "text/x-python",
   "name": "python",
   "nbconvert_exporter": "python",
   "pygments_lexer": "ipython3",
   "version": "3.9.7"
  }
 },
 "nbformat": 4,
 "nbformat_minor": 5
}
